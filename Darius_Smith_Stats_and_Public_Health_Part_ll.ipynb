{
 "cells": [
  {
   "cell_type": "markdown",
   "id": "e0e9bfa3",
   "metadata": {},
   "source": [
    "## Stats and Public Health Part ll\n",
    "\n",
    "**Author: Darius Smith**\n",
    "\n",
    "**BrainStation | Data Science | February 21, 2023**"
   ]
  },
  {
   "cell_type": "markdown",
   "id": "e85d5b13",
   "metadata": {},
   "source": [
    "### Table of Contents\n",
    "\n",
    "[Purpose of Notebook](#Purpose-of-Notebook)\n",
    "\n",
    "[Data Dictionary](#Data-Dictionary)\n",
    "\n",
    "[Approach](#Approach)\n",
    "\n",
    "[Basic Analysis](#Basic-Analysis)\n",
    "\n",
    "[Statistical Analysis](#Statistical-Analysis)\n",
    "\n",
    "[Advanced Statistical Analysis](#Advanced-Statistical-Analysis)\n",
    "\n",
    "[Conclusion](#Conclusion)"
   ]
  },
  {
   "cell_type": "markdown",
   "id": "da90644e",
   "metadata": {},
   "source": [
    "## Purpose of Notebook\n",
    "\n",
    "This notebook a continuation notebook to explore the relationship between the different variables and the mosquito number, as well as the probability of finding West Nile Virus (WNV) at any particular time and location. The data is from the Chicago database on West Nile Virus prevalence. \n",
    "\n",
    "As a refresher, introducing the data dictionary below for reference. "
   ]
  },
  {
   "cell_type": "markdown",
   "id": "2fab4e43",
   "metadata": {},
   "source": [
    "## Data Dictionary  \n",
    "\n",
    "Numerical Data:\n",
    "\n",
    "- Year - Year that the WNV test is performed. (numerical)\n",
    "\n",
    "- Week - Week that the WNV test is performed. (numerical)\n",
    "\n",
    "- Date - Date and time that the WNV test is performed. (categorical)\n",
    "\n",
    "Data About *Traps*: \n",
    "\n",
    "- Address Block - Address of the location of trap.(categorical)\n",
    "- Trap - Id of the trap. (categorical)\n",
    "\n",
    "- Trap type - Type of trap.(categorical)\n",
    "- Mosquito # - Number of mosquitoes caught in this trap. (numerical)\n",
    "- Block - Block number of address\n",
    "- Latitude - Latitude of trap.(numerical)\n",
    "- Longitude - Longitude of trap.(numerical)\n",
    "\n",
    "Data About *Mosquitos*:\n",
    "\n",
    "- Mosquito ID - Id for Mosquito species.(categorical)\n",
    "- WNV Present - Whether West Nile Virus was present in these mosquitos.(categorical)\n",
    "- Species - Mosquito species.(categorical)\n",
    "\n",
    "\n",
    "Question of Interest: What is the probability of finding West Nile Virus (WNV) at any particular time and location?"
   ]
  },
  {
   "cell_type": "markdown",
   "id": "c0fb12fc",
   "metadata": {},
   "source": [
    "## Approach\n",
    "\n",
    "**Analysis**\n",
    "\n",
    "- Import necessary libraries.\n",
    "- Acquire the data.\n",
    "- Inspect the Data.\n",
    "- Clean the data if necessary.\n",
    "- Convert the WNV Present column into a binary column and create dummy variables from the Trap type column.\n",
    "- Observe the average number of mosquitos for each month, and look for patterns/trends.\n",
    "\n",
    "**Statistical Analysis**\n",
    "\n",
    "- Summary Statistics.\n",
    "- Interaction of the columns.\n",
    "- Gain and understadning of:\n",
    "    - Which columns are positively correlated with the number of mosquitoes caught? \n",
    "    - Which columns are negatively correlated? Are these correlations statistically significant?\n",
    "- See if there is a statistically significant difference between the different mosquito species when looking at the occurrence of West Nile Virus?\n",
    "\n",
    "**Advanced Statistical Analysis**\n",
    "\n",
    "- Run a linear regression to determine how the independent variables affect the number of mosquitoes caught.\n",
    "    - Model construction process.\n",
    "    - Analyze model and results along with limitations.\n",
    "- Run a logistic regression to determine how the independent variables affect West Nile Virus presence\n",
    "    - Model construction process\n",
    "    - Analyze model and results along with limitations.\n",
    "    \n",
    "**Conclusion**\n",
    "\n",
    "- Summary of findings \n"
   ]
  },
  {
   "cell_type": "markdown",
   "id": "c86e3f9e",
   "metadata": {},
   "source": [
    "Beginning by importing the cleaned mosquito dataset to recall all variables. "
   ]
  },
  {
   "cell_type": "markdown",
   "id": "1f09624c",
   "metadata": {},
   "source": [
    "## Basic Analysis "
   ]
  },
  {
   "cell_type": "code",
   "execution_count": 518,
   "id": "01d0e1e0",
   "metadata": {},
   "outputs": [],
   "source": [
    "import numpy as np\n",
    "import pandas as pd\n",
    "import matplotlib.pyplot as plt\n",
    "import seaborn as sns"
   ]
  },
  {
   "cell_type": "code",
   "execution_count": 519,
   "id": "26095ad1",
   "metadata": {},
   "outputs": [
    {
     "data": {
      "text/html": [
       "<div>\n",
       "<style scoped>\n",
       "    .dataframe tbody tr th:only-of-type {\n",
       "        vertical-align: middle;\n",
       "    }\n",
       "\n",
       "    .dataframe tbody tr th {\n",
       "        vertical-align: top;\n",
       "    }\n",
       "\n",
       "    .dataframe thead th {\n",
       "        text-align: right;\n",
       "    }\n",
       "</style>\n",
       "<table border=\"1\" class=\"dataframe\">\n",
       "  <thead>\n",
       "    <tr style=\"text-align: right;\">\n",
       "      <th></th>\n",
       "      <th>Year</th>\n",
       "      <th>Week</th>\n",
       "      <th>Address Block</th>\n",
       "      <th>Trap</th>\n",
       "      <th>Trap type</th>\n",
       "      <th>Date</th>\n",
       "      <th>Mosquito number</th>\n",
       "      <th>WNV Present</th>\n",
       "      <th>Species</th>\n",
       "      <th>Lat</th>\n",
       "      <th>Lon</th>\n",
       "      <th>Month</th>\n",
       "    </tr>\n",
       "  </thead>\n",
       "  <tbody>\n",
       "    <tr>\n",
       "      <th>0</th>\n",
       "      <td>2019</td>\n",
       "      <td>39</td>\n",
       "      <td>100XX W OHARE AIRPORT</td>\n",
       "      <td>T910</td>\n",
       "      <td>GRAVID</td>\n",
       "      <td>2019-09-26 00:09:00</td>\n",
       "      <td>2</td>\n",
       "      <td>negative</td>\n",
       "      <td>CULEX RESTUANS</td>\n",
       "      <td>41.977738</td>\n",
       "      <td>-87.880969</td>\n",
       "      <td>9</td>\n",
       "    </tr>\n",
       "    <tr>\n",
       "      <th>1</th>\n",
       "      <td>2019</td>\n",
       "      <td>39</td>\n",
       "      <td>52XX S KOLMAR AVE</td>\n",
       "      <td>T114</td>\n",
       "      <td>GRAVID</td>\n",
       "      <td>2019-09-26 00:09:00</td>\n",
       "      <td>1</td>\n",
       "      <td>negative</td>\n",
       "      <td>CULEX RESTUANS</td>\n",
       "      <td>41.798211</td>\n",
       "      <td>-87.736925</td>\n",
       "      <td>9</td>\n",
       "    </tr>\n",
       "    <tr>\n",
       "      <th>2</th>\n",
       "      <td>2019</td>\n",
       "      <td>39</td>\n",
       "      <td>58XX N WESTERN AVE</td>\n",
       "      <td>T028</td>\n",
       "      <td>GRAVID</td>\n",
       "      <td>2019-09-26 00:09:00</td>\n",
       "      <td>2</td>\n",
       "      <td>negative</td>\n",
       "      <td>CULEX RESTUANS</td>\n",
       "      <td>41.987245</td>\n",
       "      <td>-87.689417</td>\n",
       "      <td>9</td>\n",
       "    </tr>\n",
       "    <tr>\n",
       "      <th>3</th>\n",
       "      <td>2019</td>\n",
       "      <td>39</td>\n",
       "      <td>39XX N SPRINGFIELD AVE</td>\n",
       "      <td>T228</td>\n",
       "      <td>GRAVID</td>\n",
       "      <td>2019-09-26 00:09:00</td>\n",
       "      <td>1</td>\n",
       "      <td>negative</td>\n",
       "      <td>CULEX RESTUANS</td>\n",
       "      <td>41.953664</td>\n",
       "      <td>-87.724987</td>\n",
       "      <td>9</td>\n",
       "    </tr>\n",
       "    <tr>\n",
       "      <th>4</th>\n",
       "      <td>2019</td>\n",
       "      <td>39</td>\n",
       "      <td>131XX S BRANDON AVE</td>\n",
       "      <td>T209</td>\n",
       "      <td>GRAVID</td>\n",
       "      <td>2019-09-26 00:09:00</td>\n",
       "      <td>9</td>\n",
       "      <td>negative</td>\n",
       "      <td>CULEX RESTUANS</td>\n",
       "      <td>41.657069</td>\n",
       "      <td>-87.546049</td>\n",
       "      <td>9</td>\n",
       "    </tr>\n",
       "    <tr>\n",
       "      <th>...</th>\n",
       "      <td>...</td>\n",
       "      <td>...</td>\n",
       "      <td>...</td>\n",
       "      <td>...</td>\n",
       "      <td>...</td>\n",
       "      <td>...</td>\n",
       "      <td>...</td>\n",
       "      <td>...</td>\n",
       "      <td>...</td>\n",
       "      <td>...</td>\n",
       "      <td>...</td>\n",
       "      <td>...</td>\n",
       "    </tr>\n",
       "    <tr>\n",
       "      <th>18490</th>\n",
       "      <td>2016</td>\n",
       "      <td>36</td>\n",
       "      <td>3XX W 18TH ST</td>\n",
       "      <td>T043</td>\n",
       "      <td>GRAVID</td>\n",
       "      <td>2016-09-09 00:09:00</td>\n",
       "      <td>4</td>\n",
       "      <td>positive</td>\n",
       "      <td>CULEX PIPIENS</td>\n",
       "      <td>41.857843</td>\n",
       "      <td>-87.635858</td>\n",
       "      <td>9</td>\n",
       "    </tr>\n",
       "    <tr>\n",
       "      <th>18491</th>\n",
       "      <td>2007</td>\n",
       "      <td>34</td>\n",
       "      <td>46XX N MILWAUKEE AVE</td>\n",
       "      <td>T003</td>\n",
       "      <td>GRAVID</td>\n",
       "      <td>2007-08-24 00:08:00</td>\n",
       "      <td>19</td>\n",
       "      <td>positive</td>\n",
       "      <td>CULEX PIPIENS</td>\n",
       "      <td>41.965376</td>\n",
       "      <td>-87.758403</td>\n",
       "      <td>8</td>\n",
       "    </tr>\n",
       "    <tr>\n",
       "      <th>18492</th>\n",
       "      <td>2016</td>\n",
       "      <td>30</td>\n",
       "      <td>127XX S DOTY AVE</td>\n",
       "      <td>T115</td>\n",
       "      <td>GRAVID</td>\n",
       "      <td>2016-07-27 00:07:00</td>\n",
       "      <td>34</td>\n",
       "      <td>positive</td>\n",
       "      <td>CULEX RESTUANS</td>\n",
       "      <td>41.662395</td>\n",
       "      <td>-87.590176</td>\n",
       "      <td>7</td>\n",
       "    </tr>\n",
       "    <tr>\n",
       "      <th>18493</th>\n",
       "      <td>2017</td>\n",
       "      <td>33</td>\n",
       "      <td>20XX N DOMINICK ST</td>\n",
       "      <td>T240B</td>\n",
       "      <td>SENTINEL</td>\n",
       "      <td>2017-08-17 00:08:00</td>\n",
       "      <td>50</td>\n",
       "      <td>positive</td>\n",
       "      <td>CULEX RESTUANS</td>\n",
       "      <td>41.919197</td>\n",
       "      <td>-87.664758</td>\n",
       "      <td>8</td>\n",
       "    </tr>\n",
       "    <tr>\n",
       "      <th>18494</th>\n",
       "      <td>2015</td>\n",
       "      <td>33</td>\n",
       "      <td>100XX W OHARE AIRPORT</td>\n",
       "      <td>T902</td>\n",
       "      <td>GRAVID</td>\n",
       "      <td>2015-08-20 00:08:00</td>\n",
       "      <td>6</td>\n",
       "      <td>positive</td>\n",
       "      <td>CULEX RESTUANS</td>\n",
       "      <td>41.977738</td>\n",
       "      <td>-87.880969</td>\n",
       "      <td>8</td>\n",
       "    </tr>\n",
       "  </tbody>\n",
       "</table>\n",
       "<p>18495 rows × 12 columns</p>\n",
       "</div>"
      ],
      "text/plain": [
       "       Year  Week           Address Block   Trap Trap type  \\\n",
       "0      2019    39   100XX W OHARE AIRPORT   T910    GRAVID   \n",
       "1      2019    39       52XX S KOLMAR AVE   T114    GRAVID   \n",
       "2      2019    39      58XX N WESTERN AVE   T028    GRAVID   \n",
       "3      2019    39  39XX N SPRINGFIELD AVE   T228    GRAVID   \n",
       "4      2019    39     131XX S BRANDON AVE   T209    GRAVID   \n",
       "...     ...   ...                     ...    ...       ...   \n",
       "18490  2016    36           3XX W 18TH ST   T043    GRAVID   \n",
       "18491  2007    34    46XX N MILWAUKEE AVE   T003    GRAVID   \n",
       "18492  2016    30        127XX S DOTY AVE   T115    GRAVID   \n",
       "18493  2017    33      20XX N DOMINICK ST  T240B  SENTINEL   \n",
       "18494  2015    33   100XX W OHARE AIRPORT   T902    GRAVID   \n",
       "\n",
       "                      Date  Mosquito number WNV Present         Species  \\\n",
       "0      2019-09-26 00:09:00                2    negative  CULEX RESTUANS   \n",
       "1      2019-09-26 00:09:00                1    negative  CULEX RESTUANS   \n",
       "2      2019-09-26 00:09:00                2    negative  CULEX RESTUANS   \n",
       "3      2019-09-26 00:09:00                1    negative  CULEX RESTUANS   \n",
       "4      2019-09-26 00:09:00                9    negative  CULEX RESTUANS   \n",
       "...                    ...              ...         ...             ...   \n",
       "18490  2016-09-09 00:09:00                4    positive   CULEX PIPIENS   \n",
       "18491  2007-08-24 00:08:00               19    positive   CULEX PIPIENS   \n",
       "18492  2016-07-27 00:07:00               34    positive  CULEX RESTUANS   \n",
       "18493  2017-08-17 00:08:00               50    positive  CULEX RESTUANS   \n",
       "18494  2015-08-20 00:08:00                6    positive  CULEX RESTUANS   \n",
       "\n",
       "             Lat        Lon  Month  \n",
       "0      41.977738 -87.880969      9  \n",
       "1      41.798211 -87.736925      9  \n",
       "2      41.987245 -87.689417      9  \n",
       "3      41.953664 -87.724987      9  \n",
       "4      41.657069 -87.546049      9  \n",
       "...          ...        ...    ...  \n",
       "18490  41.857843 -87.635858      9  \n",
       "18491  41.965376 -87.758403      8  \n",
       "18492  41.662395 -87.590176      7  \n",
       "18493  41.919197 -87.664758      8  \n",
       "18494  41.977738 -87.880969      8  \n",
       "\n",
       "[18495 rows x 12 columns]"
      ]
     },
     "execution_count": 519,
     "metadata": {},
     "output_type": "execute_result"
    }
   ],
   "source": [
    "mdf = pd.read_csv('downloads/mosquito_data_part_2 (1).csv')\n",
    "mdf"
   ]
  },
  {
   "cell_type": "code",
   "execution_count": 520,
   "id": "868c953d",
   "metadata": {},
   "outputs": [
    {
     "data": {
      "text/html": [
       "<div>\n",
       "<style scoped>\n",
       "    .dataframe tbody tr th:only-of-type {\n",
       "        vertical-align: middle;\n",
       "    }\n",
       "\n",
       "    .dataframe tbody tr th {\n",
       "        vertical-align: top;\n",
       "    }\n",
       "\n",
       "    .dataframe thead th {\n",
       "        text-align: right;\n",
       "    }\n",
       "</style>\n",
       "<table border=\"1\" class=\"dataframe\">\n",
       "  <thead>\n",
       "    <tr style=\"text-align: right;\">\n",
       "      <th></th>\n",
       "      <th>Year</th>\n",
       "      <th>Week</th>\n",
       "      <th>Address Block</th>\n",
       "      <th>Trap</th>\n",
       "      <th>Trap type</th>\n",
       "      <th>Date</th>\n",
       "      <th>Mosquito number</th>\n",
       "      <th>WNV Present</th>\n",
       "      <th>Species</th>\n",
       "      <th>Lat</th>\n",
       "      <th>Lon</th>\n",
       "      <th>Month</th>\n",
       "    </tr>\n",
       "  </thead>\n",
       "  <tbody>\n",
       "    <tr>\n",
       "      <th>0</th>\n",
       "      <td>2019</td>\n",
       "      <td>39</td>\n",
       "      <td>100XX W OHARE AIRPORT</td>\n",
       "      <td>T910</td>\n",
       "      <td>GRAVID</td>\n",
       "      <td>2019-09-26 00:09:00</td>\n",
       "      <td>2</td>\n",
       "      <td>negative</td>\n",
       "      <td>CULEX RESTUANS</td>\n",
       "      <td>41.977738</td>\n",
       "      <td>-87.880969</td>\n",
       "      <td>9</td>\n",
       "    </tr>\n",
       "    <tr>\n",
       "      <th>1</th>\n",
       "      <td>2019</td>\n",
       "      <td>39</td>\n",
       "      <td>52XX S KOLMAR AVE</td>\n",
       "      <td>T114</td>\n",
       "      <td>GRAVID</td>\n",
       "      <td>2019-09-26 00:09:00</td>\n",
       "      <td>1</td>\n",
       "      <td>negative</td>\n",
       "      <td>CULEX RESTUANS</td>\n",
       "      <td>41.798211</td>\n",
       "      <td>-87.736925</td>\n",
       "      <td>9</td>\n",
       "    </tr>\n",
       "    <tr>\n",
       "      <th>2</th>\n",
       "      <td>2019</td>\n",
       "      <td>39</td>\n",
       "      <td>58XX N WESTERN AVE</td>\n",
       "      <td>T028</td>\n",
       "      <td>GRAVID</td>\n",
       "      <td>2019-09-26 00:09:00</td>\n",
       "      <td>2</td>\n",
       "      <td>negative</td>\n",
       "      <td>CULEX RESTUANS</td>\n",
       "      <td>41.987245</td>\n",
       "      <td>-87.689417</td>\n",
       "      <td>9</td>\n",
       "    </tr>\n",
       "    <tr>\n",
       "      <th>3</th>\n",
       "      <td>2019</td>\n",
       "      <td>39</td>\n",
       "      <td>39XX N SPRINGFIELD AVE</td>\n",
       "      <td>T228</td>\n",
       "      <td>GRAVID</td>\n",
       "      <td>2019-09-26 00:09:00</td>\n",
       "      <td>1</td>\n",
       "      <td>negative</td>\n",
       "      <td>CULEX RESTUANS</td>\n",
       "      <td>41.953664</td>\n",
       "      <td>-87.724987</td>\n",
       "      <td>9</td>\n",
       "    </tr>\n",
       "    <tr>\n",
       "      <th>4</th>\n",
       "      <td>2019</td>\n",
       "      <td>39</td>\n",
       "      <td>131XX S BRANDON AVE</td>\n",
       "      <td>T209</td>\n",
       "      <td>GRAVID</td>\n",
       "      <td>2019-09-26 00:09:00</td>\n",
       "      <td>9</td>\n",
       "      <td>negative</td>\n",
       "      <td>CULEX RESTUANS</td>\n",
       "      <td>41.657069</td>\n",
       "      <td>-87.546049</td>\n",
       "      <td>9</td>\n",
       "    </tr>\n",
       "  </tbody>\n",
       "</table>\n",
       "</div>"
      ],
      "text/plain": [
       "   Year  Week           Address Block  Trap Trap type                 Date  \\\n",
       "0  2019    39   100XX W OHARE AIRPORT  T910    GRAVID  2019-09-26 00:09:00   \n",
       "1  2019    39       52XX S KOLMAR AVE  T114    GRAVID  2019-09-26 00:09:00   \n",
       "2  2019    39      58XX N WESTERN AVE  T028    GRAVID  2019-09-26 00:09:00   \n",
       "3  2019    39  39XX N SPRINGFIELD AVE  T228    GRAVID  2019-09-26 00:09:00   \n",
       "4  2019    39     131XX S BRANDON AVE  T209    GRAVID  2019-09-26 00:09:00   \n",
       "\n",
       "   Mosquito number WNV Present         Species        Lat        Lon  Month  \n",
       "0                2    negative  CULEX RESTUANS  41.977738 -87.880969      9  \n",
       "1                1    negative  CULEX RESTUANS  41.798211 -87.736925      9  \n",
       "2                2    negative  CULEX RESTUANS  41.987245 -87.689417      9  \n",
       "3                1    negative  CULEX RESTUANS  41.953664 -87.724987      9  \n",
       "4                9    negative  CULEX RESTUANS  41.657069 -87.546049      9  "
      ]
     },
     "execution_count": 520,
     "metadata": {},
     "output_type": "execute_result"
    }
   ],
   "source": [
    "#Inspecting the data frame. \n",
    "mdf.head()"
   ]
  },
  {
   "cell_type": "code",
   "execution_count": 521,
   "id": "a6f6660b",
   "metadata": {},
   "outputs": [
    {
     "data": {
      "text/html": [
       "<div>\n",
       "<style scoped>\n",
       "    .dataframe tbody tr th:only-of-type {\n",
       "        vertical-align: middle;\n",
       "    }\n",
       "\n",
       "    .dataframe tbody tr th {\n",
       "        vertical-align: top;\n",
       "    }\n",
       "\n",
       "    .dataframe thead th {\n",
       "        text-align: right;\n",
       "    }\n",
       "</style>\n",
       "<table border=\"1\" class=\"dataframe\">\n",
       "  <thead>\n",
       "    <tr style=\"text-align: right;\">\n",
       "      <th></th>\n",
       "      <th>Year</th>\n",
       "      <th>Week</th>\n",
       "      <th>Address Block</th>\n",
       "      <th>Trap</th>\n",
       "      <th>Trap type</th>\n",
       "      <th>Date</th>\n",
       "      <th>Mosquito number</th>\n",
       "      <th>WNV Present</th>\n",
       "      <th>Species</th>\n",
       "      <th>Lat</th>\n",
       "      <th>Lon</th>\n",
       "      <th>Month</th>\n",
       "    </tr>\n",
       "  </thead>\n",
       "  <tbody>\n",
       "    <tr>\n",
       "      <th>18490</th>\n",
       "      <td>2016</td>\n",
       "      <td>36</td>\n",
       "      <td>3XX W 18TH ST</td>\n",
       "      <td>T043</td>\n",
       "      <td>GRAVID</td>\n",
       "      <td>2016-09-09 00:09:00</td>\n",
       "      <td>4</td>\n",
       "      <td>positive</td>\n",
       "      <td>CULEX PIPIENS</td>\n",
       "      <td>41.857843</td>\n",
       "      <td>-87.635858</td>\n",
       "      <td>9</td>\n",
       "    </tr>\n",
       "    <tr>\n",
       "      <th>18491</th>\n",
       "      <td>2007</td>\n",
       "      <td>34</td>\n",
       "      <td>46XX N MILWAUKEE AVE</td>\n",
       "      <td>T003</td>\n",
       "      <td>GRAVID</td>\n",
       "      <td>2007-08-24 00:08:00</td>\n",
       "      <td>19</td>\n",
       "      <td>positive</td>\n",
       "      <td>CULEX PIPIENS</td>\n",
       "      <td>41.965376</td>\n",
       "      <td>-87.758403</td>\n",
       "      <td>8</td>\n",
       "    </tr>\n",
       "    <tr>\n",
       "      <th>18492</th>\n",
       "      <td>2016</td>\n",
       "      <td>30</td>\n",
       "      <td>127XX S DOTY AVE</td>\n",
       "      <td>T115</td>\n",
       "      <td>GRAVID</td>\n",
       "      <td>2016-07-27 00:07:00</td>\n",
       "      <td>34</td>\n",
       "      <td>positive</td>\n",
       "      <td>CULEX RESTUANS</td>\n",
       "      <td>41.662395</td>\n",
       "      <td>-87.590176</td>\n",
       "      <td>7</td>\n",
       "    </tr>\n",
       "    <tr>\n",
       "      <th>18493</th>\n",
       "      <td>2017</td>\n",
       "      <td>33</td>\n",
       "      <td>20XX N DOMINICK ST</td>\n",
       "      <td>T240B</td>\n",
       "      <td>SENTINEL</td>\n",
       "      <td>2017-08-17 00:08:00</td>\n",
       "      <td>50</td>\n",
       "      <td>positive</td>\n",
       "      <td>CULEX RESTUANS</td>\n",
       "      <td>41.919197</td>\n",
       "      <td>-87.664758</td>\n",
       "      <td>8</td>\n",
       "    </tr>\n",
       "    <tr>\n",
       "      <th>18494</th>\n",
       "      <td>2015</td>\n",
       "      <td>33</td>\n",
       "      <td>100XX W OHARE AIRPORT</td>\n",
       "      <td>T902</td>\n",
       "      <td>GRAVID</td>\n",
       "      <td>2015-08-20 00:08:00</td>\n",
       "      <td>6</td>\n",
       "      <td>positive</td>\n",
       "      <td>CULEX RESTUANS</td>\n",
       "      <td>41.977738</td>\n",
       "      <td>-87.880969</td>\n",
       "      <td>8</td>\n",
       "    </tr>\n",
       "  </tbody>\n",
       "</table>\n",
       "</div>"
      ],
      "text/plain": [
       "       Year  Week          Address Block   Trap Trap type  \\\n",
       "18490  2016    36          3XX W 18TH ST   T043    GRAVID   \n",
       "18491  2007    34   46XX N MILWAUKEE AVE   T003    GRAVID   \n",
       "18492  2016    30       127XX S DOTY AVE   T115    GRAVID   \n",
       "18493  2017    33     20XX N DOMINICK ST  T240B  SENTINEL   \n",
       "18494  2015    33  100XX W OHARE AIRPORT   T902    GRAVID   \n",
       "\n",
       "                      Date  Mosquito number WNV Present         Species  \\\n",
       "18490  2016-09-09 00:09:00                4    positive   CULEX PIPIENS   \n",
       "18491  2007-08-24 00:08:00               19    positive   CULEX PIPIENS   \n",
       "18492  2016-07-27 00:07:00               34    positive  CULEX RESTUANS   \n",
       "18493  2017-08-17 00:08:00               50    positive  CULEX RESTUANS   \n",
       "18494  2015-08-20 00:08:00                6    positive  CULEX RESTUANS   \n",
       "\n",
       "             Lat        Lon  Month  \n",
       "18490  41.857843 -87.635858      9  \n",
       "18491  41.965376 -87.758403      8  \n",
       "18492  41.662395 -87.590176      7  \n",
       "18493  41.919197 -87.664758      8  \n",
       "18494  41.977738 -87.880969      8  "
      ]
     },
     "execution_count": 521,
     "metadata": {},
     "output_type": "execute_result"
    }
   ],
   "source": [
    "mdf.tail()"
   ]
  },
  {
   "cell_type": "code",
   "execution_count": 522,
   "id": "bd553964",
   "metadata": {},
   "outputs": [
    {
     "data": {
      "text/html": [
       "<div>\n",
       "<style scoped>\n",
       "    .dataframe tbody tr th:only-of-type {\n",
       "        vertical-align: middle;\n",
       "    }\n",
       "\n",
       "    .dataframe tbody tr th {\n",
       "        vertical-align: top;\n",
       "    }\n",
       "\n",
       "    .dataframe thead th {\n",
       "        text-align: right;\n",
       "    }\n",
       "</style>\n",
       "<table border=\"1\" class=\"dataframe\">\n",
       "  <thead>\n",
       "    <tr style=\"text-align: right;\">\n",
       "      <th></th>\n",
       "      <th>Year</th>\n",
       "      <th>Week</th>\n",
       "      <th>Address Block</th>\n",
       "      <th>Trap</th>\n",
       "      <th>Trap type</th>\n",
       "      <th>Date</th>\n",
       "      <th>Mosquito number</th>\n",
       "      <th>WNV Present</th>\n",
       "      <th>Species</th>\n",
       "      <th>Lat</th>\n",
       "      <th>Lon</th>\n",
       "      <th>Month</th>\n",
       "    </tr>\n",
       "  </thead>\n",
       "  <tbody>\n",
       "    <tr>\n",
       "      <th>5274</th>\n",
       "      <td>2014</td>\n",
       "      <td>39</td>\n",
       "      <td>14XX N HUMBOLDT DR</td>\n",
       "      <td>T033</td>\n",
       "      <td>GRAVID</td>\n",
       "      <td>2014-09-25 00:09:00</td>\n",
       "      <td>4</td>\n",
       "      <td>negative</td>\n",
       "      <td>CULEX PIPIENS</td>\n",
       "      <td>41.907285</td>\n",
       "      <td>-87.701395</td>\n",
       "      <td>9</td>\n",
       "    </tr>\n",
       "    <tr>\n",
       "      <th>12729</th>\n",
       "      <td>2009</td>\n",
       "      <td>20</td>\n",
       "      <td>70XX W ARMITAGE AVE</td>\n",
       "      <td>T151</td>\n",
       "      <td>GRAVID</td>\n",
       "      <td>2009-05-28 00:05:00</td>\n",
       "      <td>1</td>\n",
       "      <td>negative</td>\n",
       "      <td>CULEX RESTUANS</td>\n",
       "      <td>41.916135</td>\n",
       "      <td>-87.801093</td>\n",
       "      <td>5</td>\n",
       "    </tr>\n",
       "    <tr>\n",
       "      <th>8149</th>\n",
       "      <td>2012</td>\n",
       "      <td>39</td>\n",
       "      <td>91XX W HIGGINS RD</td>\n",
       "      <td>T009</td>\n",
       "      <td>GRAVID</td>\n",
       "      <td>2012-09-28 00:09:00</td>\n",
       "      <td>1</td>\n",
       "      <td>negative</td>\n",
       "      <td>CULEX PIPIENS</td>\n",
       "      <td>41.988586</td>\n",
       "      <td>-87.854473</td>\n",
       "      <td>9</td>\n",
       "    </tr>\n",
       "    <tr>\n",
       "      <th>15599</th>\n",
       "      <td>2012</td>\n",
       "      <td>33</td>\n",
       "      <td>45XX N CAMPBELL AVE</td>\n",
       "      <td>T220</td>\n",
       "      <td>GRAVID</td>\n",
       "      <td>2012-08-16 00:08:00</td>\n",
       "      <td>9</td>\n",
       "      <td>positive</td>\n",
       "      <td>CULEX RESTUANS</td>\n",
       "      <td>41.964414</td>\n",
       "      <td>-87.691363</td>\n",
       "      <td>8</td>\n",
       "    </tr>\n",
       "    <tr>\n",
       "      <th>8117</th>\n",
       "      <td>2012</td>\n",
       "      <td>39</td>\n",
       "      <td>51XX N MONT CLARE AVE</td>\n",
       "      <td>T223</td>\n",
       "      <td>GRAVID</td>\n",
       "      <td>2012-09-28 00:09:00</td>\n",
       "      <td>1</td>\n",
       "      <td>negative</td>\n",
       "      <td>CULEX PIPIENS</td>\n",
       "      <td>41.974523</td>\n",
       "      <td>-87.804589</td>\n",
       "      <td>9</td>\n",
       "    </tr>\n",
       "  </tbody>\n",
       "</table>\n",
       "</div>"
      ],
      "text/plain": [
       "       Year  Week          Address Block  Trap Trap type                 Date  \\\n",
       "5274   2014    39     14XX N HUMBOLDT DR  T033    GRAVID  2014-09-25 00:09:00   \n",
       "12729  2009    20    70XX W ARMITAGE AVE  T151    GRAVID  2009-05-28 00:05:00   \n",
       "8149   2012    39      91XX W HIGGINS RD  T009    GRAVID  2012-09-28 00:09:00   \n",
       "15599  2012    33    45XX N CAMPBELL AVE  T220    GRAVID  2012-08-16 00:08:00   \n",
       "8117   2012    39  51XX N MONT CLARE AVE  T223    GRAVID  2012-09-28 00:09:00   \n",
       "\n",
       "       Mosquito number WNV Present         Species        Lat        Lon  \\\n",
       "5274                 4    negative   CULEX PIPIENS  41.907285 -87.701395   \n",
       "12729                1    negative  CULEX RESTUANS  41.916135 -87.801093   \n",
       "8149                 1    negative   CULEX PIPIENS  41.988586 -87.854473   \n",
       "15599                9    positive  CULEX RESTUANS  41.964414 -87.691363   \n",
       "8117                 1    negative   CULEX PIPIENS  41.974523 -87.804589   \n",
       "\n",
       "       Month  \n",
       "5274       9  \n",
       "12729      5  \n",
       "8149       9  \n",
       "15599      8  \n",
       "8117       9  "
      ]
     },
     "execution_count": 522,
     "metadata": {},
     "output_type": "execute_result"
    }
   ],
   "source": [
    "mdf.sample(5)"
   ]
  },
  {
   "cell_type": "code",
   "execution_count": 523,
   "id": "a9a1b0e9",
   "metadata": {},
   "outputs": [
    {
     "name": "stdout",
     "output_type": "stream",
     "text": [
      "There are 18495 rows of data and 12 columns\n"
     ]
    }
   ],
   "source": [
    "# Determining how many columns and rows there are after first analysis. \n",
    "\n",
    "print(f'There are {mdf.shape[0]} rows of data and {mdf.shape[1]} columns')"
   ]
  },
  {
   "cell_type": "code",
   "execution_count": 524,
   "id": "6b765f44",
   "metadata": {},
   "outputs": [
    {
     "data": {
      "text/plain": [
       "Year               0\n",
       "Week               0\n",
       "Address Block      0\n",
       "Trap               0\n",
       "Trap type          0\n",
       "Date               0\n",
       "Mosquito number    0\n",
       "WNV Present        0\n",
       "Species            0\n",
       "Lat                0\n",
       "Lon                0\n",
       "Month              0\n",
       "dtype: int64"
      ]
     },
     "execution_count": 524,
     "metadata": {},
     "output_type": "execute_result"
    }
   ],
   "source": [
    "mdf.isna().sum()"
   ]
  },
  {
   "cell_type": "code",
   "execution_count": 525,
   "id": "c5b6b3b6",
   "metadata": {},
   "outputs": [
    {
     "name": "stdout",
     "output_type": "stream",
     "text": [
      "<class 'pandas.core.frame.DataFrame'>\n",
      "RangeIndex: 18495 entries, 0 to 18494\n",
      "Data columns (total 12 columns):\n",
      " #   Column           Non-Null Count  Dtype  \n",
      "---  ------           --------------  -----  \n",
      " 0   Year             18495 non-null  int64  \n",
      " 1   Week             18495 non-null  int64  \n",
      " 2   Address Block    18495 non-null  object \n",
      " 3   Trap             18495 non-null  object \n",
      " 4   Trap type        18495 non-null  object \n",
      " 5   Date             18495 non-null  object \n",
      " 6   Mosquito number  18495 non-null  int64  \n",
      " 7   WNV Present      18495 non-null  object \n",
      " 8   Species          18495 non-null  object \n",
      " 9   Lat              18495 non-null  float64\n",
      " 10  Lon              18495 non-null  float64\n",
      " 11  Month            18495 non-null  int64  \n",
      "dtypes: float64(2), int64(4), object(6)\n",
      "memory usage: 1.7+ MB\n"
     ]
    }
   ],
   "source": [
    "mdf.info()"
   ]
  },
  {
   "cell_type": "code",
   "execution_count": 526,
   "id": "9ea7a366",
   "metadata": {},
   "outputs": [
    {
     "data": {
      "text/plain": [
       "0        False\n",
       "1        False\n",
       "2        False\n",
       "3        False\n",
       "4        False\n",
       "         ...  \n",
       "18490    False\n",
       "18491    False\n",
       "18492    False\n",
       "18493    False\n",
       "18494     True\n",
       "Length: 18495, dtype: bool"
      ]
     },
     "execution_count": 526,
     "metadata": {},
     "output_type": "execute_result"
    }
   ],
   "source": [
    "# .duplicated() returns a true-false array if a row is a duplicate.\n",
    "# checking is this dataset has duplicates.\n",
    "mdf.duplicated()"
   ]
  },
  {
   "cell_type": "markdown",
   "id": "d2af3de1",
   "metadata": {},
   "source": [
    "There are duplicates, moving forward to check the sum of duplicates and if there are any in the columns. "
   ]
  },
  {
   "cell_type": "code",
   "execution_count": 527,
   "id": "d70ee892",
   "metadata": {},
   "outputs": [
    {
     "data": {
      "text/plain": [
       "658"
      ]
     },
     "execution_count": 527,
     "metadata": {},
     "output_type": "execute_result"
    }
   ],
   "source": [
    "# There are 658 duplicates rows.\n",
    "mdf.duplicated().sum()"
   ]
  },
  {
   "cell_type": "code",
   "execution_count": 528,
   "id": "7e5a2c18",
   "metadata": {},
   "outputs": [
    {
     "data": {
      "text/plain": [
       "Year               False\n",
       "Week               False\n",
       "Address Block      False\n",
       "Trap               False\n",
       "Trap type          False\n",
       "Date               False\n",
       "Mosquito number    False\n",
       "WNV Present        False\n",
       "Species            False\n",
       "Lat                False\n",
       "Lon                False\n",
       "Month              False\n",
       "dtype: bool"
      ]
     },
     "execution_count": 528,
     "metadata": {},
     "output_type": "execute_result"
    }
   ],
   "source": [
    "# None of the columns have duplicates. \n",
    "mdf.T.duplicated()"
   ]
  },
  {
   "cell_type": "code",
   "execution_count": 529,
   "id": "4eabaefc",
   "metadata": {},
   "outputs": [
    {
     "data": {
      "text/plain": [
       "Year               0\n",
       "Week               0\n",
       "Address Block      0\n",
       "Trap               0\n",
       "Trap type          0\n",
       "Date               0\n",
       "Mosquito number    0\n",
       "WNV Present        0\n",
       "Species            0\n",
       "Lat                0\n",
       "Lon                0\n",
       "Month              0\n",
       "dtype: int64"
      ]
     },
     "execution_count": 529,
     "metadata": {},
     "output_type": "execute_result"
    }
   ],
   "source": [
    "# Looking to see if there are null values. \n",
    "mdf.isna().sum()"
   ]
  },
  {
   "cell_type": "markdown",
   "id": "d78e0f64",
   "metadata": {},
   "source": [
    "There are no null values, however, there were duplicates. Based on knowing from the previous analysis that the duplicates are due to the cap of mosquitos caught at (50), they will stay in the data and not be removed. Moving forward to exploring the WNV Present column. "
   ]
  },
  {
   "cell_type": "markdown",
   "id": "29cfb46d",
   "metadata": {},
   "source": [
    "**WNV Present**\n",
    "\n",
    "Moving forward with exploring the WNV present column. "
   ]
  },
  {
   "cell_type": "code",
   "execution_count": 530,
   "id": "7a2df995",
   "metadata": {},
   "outputs": [
    {
     "data": {
      "text/plain": [
       "array(['negative', 'positive'], dtype=object)"
      ]
     },
     "execution_count": 530,
     "metadata": {},
     "output_type": "execute_result"
    }
   ],
   "source": [
    "mdf['WNV Present'].unique()"
   ]
  },
  {
   "cell_type": "markdown",
   "id": "6aba32cc",
   "metadata": {},
   "source": [
    "There are only two (2) values for this column, negative or positive. "
   ]
  },
  {
   "cell_type": "code",
   "execution_count": 531,
   "id": "42e25b42",
   "metadata": {},
   "outputs": [
    {
     "data": {
      "text/plain": [
       "negative    14501\n",
       "positive     3994\n",
       "Name: WNV Present, dtype: int64"
      ]
     },
     "execution_count": 531,
     "metadata": {},
     "output_type": "execute_result"
    }
   ],
   "source": [
    "# Since there are only two values, these will be changed into a numerical Boolean. (1) or (0).\n",
    "mdf['WNV Present'].value_counts()"
   ]
  },
  {
   "cell_type": "code",
   "execution_count": 532,
   "id": "2049285a",
   "metadata": {},
   "outputs": [
    {
     "data": {
      "text/plain": [
       "negative    78.404974\n",
       "positive    21.595026\n",
       "Name: WNV Present, dtype: float64"
      ]
     },
     "execution_count": 532,
     "metadata": {},
     "output_type": "execute_result"
    }
   ],
   "source": [
    "# Seeing the percentages of positive to negative shows that there is an imbalance in the data of pos and neg.\n",
    "mdf['WNV Present'].value_counts()/mdf.shape[0]*100"
   ]
  },
  {
   "cell_type": "code",
   "execution_count": 533,
   "id": "18a185b6",
   "metadata": {},
   "outputs": [
    {
     "data": {
      "image/png": "[encoded data removed]",
      "text/plain": [
       "<Figure size 640x480 with 1 Axes>"
      ]
     },
     "metadata": {},
     "output_type": "display_data"
    }
   ],
   "source": [
    "# plotting a visual to see comparison. \n",
    "mdf['WNV Present'].value_counts().plot(kind='bar')\n",
    "plt.xlabel('Negative / Positive WNV')\n",
    "plt.ylabel('Count of Mosquitos')\n",
    "plt.title('WNV Present')\n",
    "plt.xticks(rotation = 0)\n",
    "plt.show()"
   ]
  },
  {
   "cell_type": "markdown",
   "id": "b41e7079",
   "metadata": {},
   "source": [
    "There is a data imbalance as was mentioned previously. Now moving forward to change the **'WNV Present'** column into a binary column and creating dummy variables from the **Trap type** column. After this, an analysis/visual on average number of mosquitos for each month will be examined for trends. "
   ]
  },
  {
   "cell_type": "code",
   "execution_count": 534,
   "id": "2afcff14",
   "metadata": {},
   "outputs": [],
   "source": [
    "# converting WNV present into a binary column. \n",
    "mdf['WNV Present'] = np.where(mdf['WNV Present'] == 'positive',1, 0)"
   ]
  },
  {
   "cell_type": "code",
   "execution_count": 535,
   "id": "c27d7f09",
   "metadata": {},
   "outputs": [
    {
     "data": {
      "text/plain": [
       "0    14501\n",
       "1     3994\n",
       "Name: WNV Present, dtype: int64"
      ]
     },
     "execution_count": 535,
     "metadata": {},
     "output_type": "execute_result"
    }
   ],
   "source": [
    "# Sanity check \n",
    "mdf['WNV Present'].value_counts()"
   ]
  },
  {
   "cell_type": "code",
   "execution_count": 536,
   "id": "4a1038aa",
   "metadata": {},
   "outputs": [
    {
     "data": {
      "text/html": [
       "<div>\n",
       "<style scoped>\n",
       "    .dataframe tbody tr th:only-of-type {\n",
       "        vertical-align: middle;\n",
       "    }\n",
       "\n",
       "    .dataframe tbody tr th {\n",
       "        vertical-align: top;\n",
       "    }\n",
       "\n",
       "    .dataframe thead th {\n",
       "        text-align: right;\n",
       "    }\n",
       "</style>\n",
       "<table border=\"1\" class=\"dataframe\">\n",
       "  <thead>\n",
       "    <tr style=\"text-align: right;\">\n",
       "      <th></th>\n",
       "      <th>Year</th>\n",
       "      <th>Week</th>\n",
       "      <th>Address Block</th>\n",
       "      <th>Trap</th>\n",
       "      <th>Trap type</th>\n",
       "      <th>Date</th>\n",
       "      <th>Mosquito number</th>\n",
       "      <th>WNV Present</th>\n",
       "      <th>Species</th>\n",
       "      <th>Lat</th>\n",
       "      <th>Lon</th>\n",
       "      <th>Month</th>\n",
       "    </tr>\n",
       "  </thead>\n",
       "  <tbody>\n",
       "    <tr>\n",
       "      <th>0</th>\n",
       "      <td>2019</td>\n",
       "      <td>39</td>\n",
       "      <td>100XX W OHARE AIRPORT</td>\n",
       "      <td>T910</td>\n",
       "      <td>GRAVID</td>\n",
       "      <td>2019-09-26 00:09:00</td>\n",
       "      <td>2</td>\n",
       "      <td>0</td>\n",
       "      <td>CULEX RESTUANS</td>\n",
       "      <td>41.977738</td>\n",
       "      <td>-87.880969</td>\n",
       "      <td>9</td>\n",
       "    </tr>\n",
       "    <tr>\n",
       "      <th>1</th>\n",
       "      <td>2019</td>\n",
       "      <td>39</td>\n",
       "      <td>52XX S KOLMAR AVE</td>\n",
       "      <td>T114</td>\n",
       "      <td>GRAVID</td>\n",
       "      <td>2019-09-26 00:09:00</td>\n",
       "      <td>1</td>\n",
       "      <td>0</td>\n",
       "      <td>CULEX RESTUANS</td>\n",
       "      <td>41.798211</td>\n",
       "      <td>-87.736925</td>\n",
       "      <td>9</td>\n",
       "    </tr>\n",
       "    <tr>\n",
       "      <th>2</th>\n",
       "      <td>2019</td>\n",
       "      <td>39</td>\n",
       "      <td>58XX N WESTERN AVE</td>\n",
       "      <td>T028</td>\n",
       "      <td>GRAVID</td>\n",
       "      <td>2019-09-26 00:09:00</td>\n",
       "      <td>2</td>\n",
       "      <td>0</td>\n",
       "      <td>CULEX RESTUANS</td>\n",
       "      <td>41.987245</td>\n",
       "      <td>-87.689417</td>\n",
       "      <td>9</td>\n",
       "    </tr>\n",
       "    <tr>\n",
       "      <th>3</th>\n",
       "      <td>2019</td>\n",
       "      <td>39</td>\n",
       "      <td>39XX N SPRINGFIELD AVE</td>\n",
       "      <td>T228</td>\n",
       "      <td>GRAVID</td>\n",
       "      <td>2019-09-26 00:09:00</td>\n",
       "      <td>1</td>\n",
       "      <td>0</td>\n",
       "      <td>CULEX RESTUANS</td>\n",
       "      <td>41.953664</td>\n",
       "      <td>-87.724987</td>\n",
       "      <td>9</td>\n",
       "    </tr>\n",
       "    <tr>\n",
       "      <th>4</th>\n",
       "      <td>2019</td>\n",
       "      <td>39</td>\n",
       "      <td>131XX S BRANDON AVE</td>\n",
       "      <td>T209</td>\n",
       "      <td>GRAVID</td>\n",
       "      <td>2019-09-26 00:09:00</td>\n",
       "      <td>9</td>\n",
       "      <td>0</td>\n",
       "      <td>CULEX RESTUANS</td>\n",
       "      <td>41.657069</td>\n",
       "      <td>-87.546049</td>\n",
       "      <td>9</td>\n",
       "    </tr>\n",
       "  </tbody>\n",
       "</table>\n",
       "</div>"
      ],
      "text/plain": [
       "   Year  Week           Address Block  Trap Trap type                 Date  \\\n",
       "0  2019    39   100XX W OHARE AIRPORT  T910    GRAVID  2019-09-26 00:09:00   \n",
       "1  2019    39       52XX S KOLMAR AVE  T114    GRAVID  2019-09-26 00:09:00   \n",
       "2  2019    39      58XX N WESTERN AVE  T028    GRAVID  2019-09-26 00:09:00   \n",
       "3  2019    39  39XX N SPRINGFIELD AVE  T228    GRAVID  2019-09-26 00:09:00   \n",
       "4  2019    39     131XX S BRANDON AVE  T209    GRAVID  2019-09-26 00:09:00   \n",
       "\n",
       "   Mosquito number  WNV Present         Species        Lat        Lon  Month  \n",
       "0                2            0  CULEX RESTUANS  41.977738 -87.880969      9  \n",
       "1                1            0  CULEX RESTUANS  41.798211 -87.736925      9  \n",
       "2                2            0  CULEX RESTUANS  41.987245 -87.689417      9  \n",
       "3                1            0  CULEX RESTUANS  41.953664 -87.724987      9  \n",
       "4                9            0  CULEX RESTUANS  41.657069 -87.546049      9  "
      ]
     },
     "execution_count": 536,
     "metadata": {},
     "output_type": "execute_result"
    }
   ],
   "source": [
    "# checking to see if the column had been changed. Sanity check 2.0\n",
    "mdf.head()"
   ]
  },
  {
   "cell_type": "code",
   "execution_count": 537,
   "id": "1f41b1fd",
   "metadata": {},
   "outputs": [
    {
     "data": {
      "text/html": [
       "<div>\n",
       "<style scoped>\n",
       "    .dataframe tbody tr th:only-of-type {\n",
       "        vertical-align: middle;\n",
       "    }\n",
       "\n",
       "    .dataframe tbody tr th {\n",
       "        vertical-align: top;\n",
       "    }\n",
       "\n",
       "    .dataframe thead th {\n",
       "        text-align: right;\n",
       "    }\n",
       "</style>\n",
       "<table border=\"1\" class=\"dataframe\">\n",
       "  <thead>\n",
       "    <tr style=\"text-align: right;\">\n",
       "      <th></th>\n",
       "      <th>Year</th>\n",
       "      <th>Week</th>\n",
       "      <th>Address Block</th>\n",
       "      <th>Trap</th>\n",
       "      <th>Trap type</th>\n",
       "      <th>Date</th>\n",
       "      <th>Mosquito number</th>\n",
       "      <th>WNV Present</th>\n",
       "      <th>Species</th>\n",
       "      <th>Lat</th>\n",
       "      <th>Lon</th>\n",
       "      <th>Month</th>\n",
       "    </tr>\n",
       "  </thead>\n",
       "  <tbody>\n",
       "    <tr>\n",
       "      <th>18490</th>\n",
       "      <td>2016</td>\n",
       "      <td>36</td>\n",
       "      <td>3XX W 18TH ST</td>\n",
       "      <td>T043</td>\n",
       "      <td>GRAVID</td>\n",
       "      <td>2016-09-09 00:09:00</td>\n",
       "      <td>4</td>\n",
       "      <td>1</td>\n",
       "      <td>CULEX PIPIENS</td>\n",
       "      <td>41.857843</td>\n",
       "      <td>-87.635858</td>\n",
       "      <td>9</td>\n",
       "    </tr>\n",
       "    <tr>\n",
       "      <th>18491</th>\n",
       "      <td>2007</td>\n",
       "      <td>34</td>\n",
       "      <td>46XX N MILWAUKEE AVE</td>\n",
       "      <td>T003</td>\n",
       "      <td>GRAVID</td>\n",
       "      <td>2007-08-24 00:08:00</td>\n",
       "      <td>19</td>\n",
       "      <td>1</td>\n",
       "      <td>CULEX PIPIENS</td>\n",
       "      <td>41.965376</td>\n",
       "      <td>-87.758403</td>\n",
       "      <td>8</td>\n",
       "    </tr>\n",
       "    <tr>\n",
       "      <th>18492</th>\n",
       "      <td>2016</td>\n",
       "      <td>30</td>\n",
       "      <td>127XX S DOTY AVE</td>\n",
       "      <td>T115</td>\n",
       "      <td>GRAVID</td>\n",
       "      <td>2016-07-27 00:07:00</td>\n",
       "      <td>34</td>\n",
       "      <td>1</td>\n",
       "      <td>CULEX RESTUANS</td>\n",
       "      <td>41.662395</td>\n",
       "      <td>-87.590176</td>\n",
       "      <td>7</td>\n",
       "    </tr>\n",
       "    <tr>\n",
       "      <th>18493</th>\n",
       "      <td>2017</td>\n",
       "      <td>33</td>\n",
       "      <td>20XX N DOMINICK ST</td>\n",
       "      <td>T240B</td>\n",
       "      <td>SENTINEL</td>\n",
       "      <td>2017-08-17 00:08:00</td>\n",
       "      <td>50</td>\n",
       "      <td>1</td>\n",
       "      <td>CULEX RESTUANS</td>\n",
       "      <td>41.919197</td>\n",
       "      <td>-87.664758</td>\n",
       "      <td>8</td>\n",
       "    </tr>\n",
       "    <tr>\n",
       "      <th>18494</th>\n",
       "      <td>2015</td>\n",
       "      <td>33</td>\n",
       "      <td>100XX W OHARE AIRPORT</td>\n",
       "      <td>T902</td>\n",
       "      <td>GRAVID</td>\n",
       "      <td>2015-08-20 00:08:00</td>\n",
       "      <td>6</td>\n",
       "      <td>1</td>\n",
       "      <td>CULEX RESTUANS</td>\n",
       "      <td>41.977738</td>\n",
       "      <td>-87.880969</td>\n",
       "      <td>8</td>\n",
       "    </tr>\n",
       "  </tbody>\n",
       "</table>\n",
       "</div>"
      ],
      "text/plain": [
       "       Year  Week          Address Block   Trap Trap type  \\\n",
       "18490  2016    36          3XX W 18TH ST   T043    GRAVID   \n",
       "18491  2007    34   46XX N MILWAUKEE AVE   T003    GRAVID   \n",
       "18492  2016    30       127XX S DOTY AVE   T115    GRAVID   \n",
       "18493  2017    33     20XX N DOMINICK ST  T240B  SENTINEL   \n",
       "18494  2015    33  100XX W OHARE AIRPORT   T902    GRAVID   \n",
       "\n",
       "                      Date  Mosquito number  WNV Present         Species  \\\n",
       "18490  2016-09-09 00:09:00                4            1   CULEX PIPIENS   \n",
       "18491  2007-08-24 00:08:00               19            1   CULEX PIPIENS   \n",
       "18492  2016-07-27 00:07:00               34            1  CULEX RESTUANS   \n",
       "18493  2017-08-17 00:08:00               50            1  CULEX RESTUANS   \n",
       "18494  2015-08-20 00:08:00                6            1  CULEX RESTUANS   \n",
       "\n",
       "             Lat        Lon  Month  \n",
       "18490  41.857843 -87.635858      9  \n",
       "18491  41.965376 -87.758403      8  \n",
       "18492  41.662395 -87.590176      7  \n",
       "18493  41.919197 -87.664758      8  \n",
       "18494  41.977738 -87.880969      8  "
      ]
     },
     "execution_count": 537,
     "metadata": {},
     "output_type": "execute_result"
    }
   ],
   "source": [
    "mdf.tail()"
   ]
  },
  {
   "cell_type": "markdown",
   "id": "465907a8",
   "metadata": {},
   "source": [
    "**'WNV Present'** has successfully been converted into a binary column. Next, creating dummy variables for the **'Trap type** column. "
   ]
  },
  {
   "cell_type": "markdown",
   "id": "34e0018d",
   "metadata": {},
   "source": [
    "The get_dummies function will be is used as it will convert categorical variables into dummy or indicator variables. A dummy or indicator variable can have a value of 0 or 1. This is important for modeling linear regression and logistic regression since they strictly require numeric input data."
   ]
  },
  {
   "cell_type": "code",
   "execution_count": 538,
   "id": "eab38358",
   "metadata": {},
   "outputs": [
    {
     "data": {
      "text/html": [
       "<div>\n",
       "<style scoped>\n",
       "    .dataframe tbody tr th:only-of-type {\n",
       "        vertical-align: middle;\n",
       "    }\n",
       "\n",
       "    .dataframe tbody tr th {\n",
       "        vertical-align: top;\n",
       "    }\n",
       "\n",
       "    .dataframe thead th {\n",
       "        text-align: right;\n",
       "    }\n",
       "</style>\n",
       "<table border=\"1\" class=\"dataframe\">\n",
       "  <thead>\n",
       "    <tr style=\"text-align: right;\">\n",
       "      <th></th>\n",
       "      <th>CDC</th>\n",
       "      <th>GRAVID</th>\n",
       "      <th>OVI</th>\n",
       "      <th>SENTINEL</th>\n",
       "    </tr>\n",
       "  </thead>\n",
       "  <tbody>\n",
       "    <tr>\n",
       "      <th>0</th>\n",
       "      <td>0</td>\n",
       "      <td>1</td>\n",
       "      <td>0</td>\n",
       "      <td>0</td>\n",
       "    </tr>\n",
       "    <tr>\n",
       "      <th>1</th>\n",
       "      <td>0</td>\n",
       "      <td>1</td>\n",
       "      <td>0</td>\n",
       "      <td>0</td>\n",
       "    </tr>\n",
       "    <tr>\n",
       "      <th>2</th>\n",
       "      <td>0</td>\n",
       "      <td>1</td>\n",
       "      <td>0</td>\n",
       "      <td>0</td>\n",
       "    </tr>\n",
       "    <tr>\n",
       "      <th>3</th>\n",
       "      <td>0</td>\n",
       "      <td>1</td>\n",
       "      <td>0</td>\n",
       "      <td>0</td>\n",
       "    </tr>\n",
       "    <tr>\n",
       "      <th>4</th>\n",
       "      <td>0</td>\n",
       "      <td>1</td>\n",
       "      <td>0</td>\n",
       "      <td>0</td>\n",
       "    </tr>\n",
       "    <tr>\n",
       "      <th>...</th>\n",
       "      <td>...</td>\n",
       "      <td>...</td>\n",
       "      <td>...</td>\n",
       "      <td>...</td>\n",
       "    </tr>\n",
       "    <tr>\n",
       "      <th>18490</th>\n",
       "      <td>0</td>\n",
       "      <td>1</td>\n",
       "      <td>0</td>\n",
       "      <td>0</td>\n",
       "    </tr>\n",
       "    <tr>\n",
       "      <th>18491</th>\n",
       "      <td>0</td>\n",
       "      <td>1</td>\n",
       "      <td>0</td>\n",
       "      <td>0</td>\n",
       "    </tr>\n",
       "    <tr>\n",
       "      <th>18492</th>\n",
       "      <td>0</td>\n",
       "      <td>1</td>\n",
       "      <td>0</td>\n",
       "      <td>0</td>\n",
       "    </tr>\n",
       "    <tr>\n",
       "      <th>18493</th>\n",
       "      <td>0</td>\n",
       "      <td>0</td>\n",
       "      <td>0</td>\n",
       "      <td>1</td>\n",
       "    </tr>\n",
       "    <tr>\n",
       "      <th>18494</th>\n",
       "      <td>0</td>\n",
       "      <td>1</td>\n",
       "      <td>0</td>\n",
       "      <td>0</td>\n",
       "    </tr>\n",
       "  </tbody>\n",
       "</table>\n",
       "<p>18495 rows × 4 columns</p>\n",
       "</div>"
      ],
      "text/plain": [
       "       CDC  GRAVID  OVI  SENTINEL\n",
       "0        0       1    0         0\n",
       "1        0       1    0         0\n",
       "2        0       1    0         0\n",
       "3        0       1    0         0\n",
       "4        0       1    0         0\n",
       "...    ...     ...  ...       ...\n",
       "18490    0       1    0         0\n",
       "18491    0       1    0         0\n",
       "18492    0       1    0         0\n",
       "18493    0       0    0         1\n",
       "18494    0       1    0         0\n",
       "\n",
       "[18495 rows x 4 columns]"
      ]
     },
     "execution_count": 538,
     "metadata": {},
     "output_type": "execute_result"
    }
   ],
   "source": [
    "pd.get_dummies(mdf['Trap type'])"
   ]
  },
  {
   "cell_type": "markdown",
   "id": "a07618b6",
   "metadata": {},
   "source": [
    "Dummy variables have been created, moving forward with exploring the relationship between average number of mosquitos for each month, and seeing any trends that arise. First step, seeing the count of mosquitos by month. "
   ]
  },
  {
   "cell_type": "code",
   "execution_count": 539,
   "id": "be5a1df7",
   "metadata": {},
   "outputs": [
    {
     "data": {
      "text/plain": [
       "5       42\n",
       "6     2787\n",
       "7     5108\n",
       "8     6872\n",
       "9     3461\n",
       "10     225\n",
       "Name: Month, dtype: int64"
      ]
     },
     "execution_count": 539,
     "metadata": {},
     "output_type": "execute_result"
    }
   ],
   "source": [
    "# Getting the count of mosquitos by month.\n",
    "mdf['Month'].value_counts().sort_index()"
   ]
  },
  {
   "cell_type": "code",
   "execution_count": 540,
   "id": "e5b524e5",
   "metadata": {},
   "outputs": [
    {
     "data": {
      "text/plain": [
       "18495"
      ]
     },
     "execution_count": 540,
     "metadata": {},
     "output_type": "execute_result"
    }
   ],
   "source": [
    "# Sum of the value counts of mosquitos. \n",
    "mdf['Month'].value_counts().sum()"
   ]
  },
  {
   "cell_type": "code",
   "execution_count": 541,
   "id": "112b0906",
   "metadata": {},
   "outputs": [
    {
     "data": {
      "text/plain": [
       "3082.5"
      ]
     },
     "execution_count": 541,
     "metadata": {},
     "output_type": "execute_result"
    }
   ],
   "source": [
    "# using the .mean() to get the \n",
    "mdf['Month'].value_counts().mean()"
   ]
  },
  {
   "cell_type": "code",
   "execution_count": 542,
   "id": "c0e59082",
   "metadata": {},
   "outputs": [
    {
     "data": {
      "text/plain": [
       "5        7.000000\n",
       "6      464.500000\n",
       "7      851.333333\n",
       "8     1145.333333\n",
       "9      576.833333\n",
       "10      37.500000\n",
       "Name: Month, dtype: float64"
      ]
     },
     "execution_count": 542,
     "metadata": {},
     "output_type": "execute_result"
    }
   ],
   "source": [
    "# the average number of mosquitos per month. \n",
    "mdf['Month'].value_counts().sort_index()/6"
   ]
  },
  {
   "cell_type": "code",
   "execution_count": 543,
   "id": "86961cf6",
   "metadata": {},
   "outputs": [
    {
     "data": {
      "text/plain": [
       "10.879913490132468"
      ]
     },
     "execution_count": 543,
     "metadata": {},
     "output_type": "execute_result"
    }
   ],
   "source": [
    "# average of mosquitos in trap.\n",
    "mdf['Mosquito number'].mean()"
   ]
  },
  {
   "cell_type": "code",
   "execution_count": 544,
   "id": "2f378bf2",
   "metadata": {},
   "outputs": [
    {
     "name": "stderr",
     "output_type": "stream",
     "text": [
      "/var/folders/26/3jnnrvjs3534y_dh9pff888c0000gn/T/ipykernel_63025/3929596976.py:2: FutureWarning: The default value of numeric_only in DataFrameGroupBy.mean is deprecated. In a future version, numeric_only will default to False. Either specify numeric_only or select only columns which should be valid for the function.\n",
      "  mdf.groupby('Month').mean()\n"
     ]
    },
    {
     "data": {
      "text/html": [
       "<div>\n",
       "<style scoped>\n",
       "    .dataframe tbody tr th:only-of-type {\n",
       "        vertical-align: middle;\n",
       "    }\n",
       "\n",
       "    .dataframe tbody tr th {\n",
       "        vertical-align: top;\n",
       "    }\n",
       "\n",
       "    .dataframe thead th {\n",
       "        text-align: right;\n",
       "    }\n",
       "</style>\n",
       "<table border=\"1\" class=\"dataframe\">\n",
       "  <thead>\n",
       "    <tr style=\"text-align: right;\">\n",
       "      <th></th>\n",
       "      <th>Year</th>\n",
       "      <th>Week</th>\n",
       "      <th>Mosquito number</th>\n",
       "      <th>WNV Present</th>\n",
       "      <th>Lat</th>\n",
       "      <th>Lon</th>\n",
       "    </tr>\n",
       "    <tr>\n",
       "      <th>Month</th>\n",
       "      <th></th>\n",
       "      <th></th>\n",
       "      <th></th>\n",
       "      <th></th>\n",
       "      <th></th>\n",
       "      <th></th>\n",
       "    </tr>\n",
       "  </thead>\n",
       "  <tbody>\n",
       "    <tr>\n",
       "      <th>5</th>\n",
       "      <td>2008.238095</td>\n",
       "      <td>20.380952</td>\n",
       "      <td>2.761905</td>\n",
       "      <td>0.000000</td>\n",
       "      <td>41.824481</td>\n",
       "      <td>-87.685189</td>\n",
       "    </tr>\n",
       "    <tr>\n",
       "      <th>6</th>\n",
       "      <td>2013.708647</td>\n",
       "      <td>24.202009</td>\n",
       "      <td>10.264442</td>\n",
       "      <td>0.015788</td>\n",
       "      <td>41.854124</td>\n",
       "      <td>-87.712200</td>\n",
       "    </tr>\n",
       "    <tr>\n",
       "      <th>7</th>\n",
       "      <td>2013.032498</td>\n",
       "      <td>28.498825</td>\n",
       "      <td>11.551879</td>\n",
       "      <td>0.163469</td>\n",
       "      <td>41.854573</td>\n",
       "      <td>-87.714573</td>\n",
       "    </tr>\n",
       "    <tr>\n",
       "      <th>8</th>\n",
       "      <td>2012.739232</td>\n",
       "      <td>32.490541</td>\n",
       "      <td>12.111321</td>\n",
       "      <td>0.358411</td>\n",
       "      <td>41.851121</td>\n",
       "      <td>-87.712942</td>\n",
       "    </tr>\n",
       "    <tr>\n",
       "      <th>9</th>\n",
       "      <td>2012.707599</td>\n",
       "      <td>36.822595</td>\n",
       "      <td>8.394973</td>\n",
       "      <td>0.186362</td>\n",
       "      <td>41.853631</td>\n",
       "      <td>-87.711043</td>\n",
       "    </tr>\n",
       "    <tr>\n",
       "      <th>10</th>\n",
       "      <td>2009.093333</td>\n",
       "      <td>39.208889</td>\n",
       "      <td>5.377778</td>\n",
       "      <td>0.031111</td>\n",
       "      <td>41.823429</td>\n",
       "      <td>-87.692313</td>\n",
       "    </tr>\n",
       "  </tbody>\n",
       "</table>\n",
       "</div>"
      ],
      "text/plain": [
       "              Year       Week  Mosquito number  WNV Present        Lat  \\\n",
       "Month                                                                    \n",
       "5      2008.238095  20.380952         2.761905     0.000000  41.824481   \n",
       "6      2013.708647  24.202009        10.264442     0.015788  41.854124   \n",
       "7      2013.032498  28.498825        11.551879     0.163469  41.854573   \n",
       "8      2012.739232  32.490541        12.111321     0.358411  41.851121   \n",
       "9      2012.707599  36.822595         8.394973     0.186362  41.853631   \n",
       "10     2009.093333  39.208889         5.377778     0.031111  41.823429   \n",
       "\n",
       "             Lon  \n",
       "Month             \n",
       "5     -87.685189  \n",
       "6     -87.712200  \n",
       "7     -87.714573  \n",
       "8     -87.712942  \n",
       "9     -87.711043  \n",
       "10    -87.692313  "
      ]
     },
     "execution_count": 544,
     "metadata": {},
     "output_type": "execute_result"
    }
   ],
   "source": [
    "# The average for every column grouped by month. \n",
    "mdf.groupby('Month').mean()"
   ]
  },
  {
   "cell_type": "code",
   "execution_count": 545,
   "id": "94371be6",
   "metadata": {},
   "outputs": [
    {
     "data": {
      "text/html": [
       "<div>\n",
       "<style scoped>\n",
       "    .dataframe tbody tr th:only-of-type {\n",
       "        vertical-align: middle;\n",
       "    }\n",
       "\n",
       "    .dataframe tbody tr th {\n",
       "        vertical-align: top;\n",
       "    }\n",
       "\n",
       "    .dataframe thead th {\n",
       "        text-align: right;\n",
       "    }\n",
       "</style>\n",
       "<table border=\"1\" class=\"dataframe\">\n",
       "  <thead>\n",
       "    <tr style=\"text-align: right;\">\n",
       "      <th></th>\n",
       "      <th>Year</th>\n",
       "      <th>Week</th>\n",
       "      <th>Mosquito number</th>\n",
       "      <th>WNV Present</th>\n",
       "      <th>Lat</th>\n",
       "      <th>Lon</th>\n",
       "      <th>Month</th>\n",
       "    </tr>\n",
       "  </thead>\n",
       "  <tbody>\n",
       "    <tr>\n",
       "      <th>count</th>\n",
       "      <td>18495.000000</td>\n",
       "      <td>18495.000000</td>\n",
       "      <td>18495.000000</td>\n",
       "      <td>18495.000000</td>\n",
       "      <td>18495.000000</td>\n",
       "      <td>18495.000000</td>\n",
       "      <td>18495.000000</td>\n",
       "    </tr>\n",
       "    <tr>\n",
       "      <th>mean</th>\n",
       "      <td>2012.905812</td>\n",
       "      <td>31.004001</td>\n",
       "      <td>10.879913</td>\n",
       "      <td>0.215950</td>\n",
       "      <td>41.852599</td>\n",
       "      <td>-87.712611</td>\n",
       "      <td>7.627088</td>\n",
       "    </tr>\n",
       "    <tr>\n",
       "      <th>std</th>\n",
       "      <td>3.725857</td>\n",
       "      <td>4.332020</td>\n",
       "      <td>13.475066</td>\n",
       "      <td>0.411491</td>\n",
       "      <td>0.115419</td>\n",
       "      <td>0.095409</td>\n",
       "      <td>0.998079</td>\n",
       "    </tr>\n",
       "    <tr>\n",
       "      <th>min</th>\n",
       "      <td>2007.000000</td>\n",
       "      <td>20.000000</td>\n",
       "      <td>1.000000</td>\n",
       "      <td>0.000000</td>\n",
       "      <td>41.644720</td>\n",
       "      <td>-87.880969</td>\n",
       "      <td>5.000000</td>\n",
       "    </tr>\n",
       "    <tr>\n",
       "      <th>25%</th>\n",
       "      <td>2010.000000</td>\n",
       "      <td>28.000000</td>\n",
       "      <td>2.000000</td>\n",
       "      <td>0.000000</td>\n",
       "      <td>41.754148</td>\n",
       "      <td>-87.778235</td>\n",
       "      <td>7.000000</td>\n",
       "    </tr>\n",
       "    <tr>\n",
       "      <th>50%</th>\n",
       "      <td>2013.000000</td>\n",
       "      <td>31.000000</td>\n",
       "      <td>5.000000</td>\n",
       "      <td>0.000000</td>\n",
       "      <td>41.872873</td>\n",
       "      <td>-87.703105</td>\n",
       "      <td>8.000000</td>\n",
       "    </tr>\n",
       "    <tr>\n",
       "      <th>75%</th>\n",
       "      <td>2016.000000</td>\n",
       "      <td>34.000000</td>\n",
       "      <td>14.000000</td>\n",
       "      <td>0.000000</td>\n",
       "      <td>41.970102</td>\n",
       "      <td>-87.643076</td>\n",
       "      <td>8.000000</td>\n",
       "    </tr>\n",
       "    <tr>\n",
       "      <th>max</th>\n",
       "      <td>2019.000000</td>\n",
       "      <td>40.000000</td>\n",
       "      <td>50.000000</td>\n",
       "      <td>1.000000</td>\n",
       "      <td>42.017801</td>\n",
       "      <td>-87.531051</td>\n",
       "      <td>10.000000</td>\n",
       "    </tr>\n",
       "  </tbody>\n",
       "</table>\n",
       "</div>"
      ],
      "text/plain": [
       "               Year          Week  Mosquito number   WNV Present  \\\n",
       "count  18495.000000  18495.000000     18495.000000  18495.000000   \n",
       "mean    2012.905812     31.004001        10.879913      0.215950   \n",
       "std        3.725857      4.332020        13.475066      0.411491   \n",
       "min     2007.000000     20.000000         1.000000      0.000000   \n",
       "25%     2010.000000     28.000000         2.000000      0.000000   \n",
       "50%     2013.000000     31.000000         5.000000      0.000000   \n",
       "75%     2016.000000     34.000000        14.000000      0.000000   \n",
       "max     2019.000000     40.000000        50.000000      1.000000   \n",
       "\n",
       "                Lat           Lon         Month  \n",
       "count  18495.000000  18495.000000  18495.000000  \n",
       "mean      41.852599    -87.712611      7.627088  \n",
       "std        0.115419      0.095409      0.998079  \n",
       "min       41.644720    -87.880969      5.000000  \n",
       "25%       41.754148    -87.778235      7.000000  \n",
       "50%       41.872873    -87.703105      8.000000  \n",
       "75%       41.970102    -87.643076      8.000000  \n",
       "max       42.017801    -87.531051     10.000000  "
      ]
     },
     "execution_count": 545,
     "metadata": {},
     "output_type": "execute_result"
    }
   ],
   "source": [
    "mdf.describe()"
   ]
  },
  {
   "cell_type": "markdown",
   "id": "862003e9",
   "metadata": {},
   "source": [
    "In this case it wasn't quite clear what 'number of mosquitos' meant. This could have meant the count of the total number of mosquitos per month or number of mosquitos caught in trap. In this instance, both have been calculated. \n",
    "\n",
    "For **total number of mosquitos per month**, May(5) averaged 7, June(6) averaged 464.5, July(7) averaged 851.3, August(8) averaged 1145.3, September(9) averaged 576.8, and October(10) averaged 37.5. The following was noticed: \n",
    "\n",
    "- Summer months by far has the highest average number of mosquitos especially in July and August.\n",
    "- Both the beginning (May) and ending month (October) has the lowest average number of mosquitos. \n",
    "- It can be inferred that the watmer the weather the higher the average number of mosquitos. \n",
    "- 25th percentile is July.\n",
    "- 50th and 75 percentile is July.\n",
    "\n",
    "For **number of mosquitos(Mosquito number)**, May(5) averaged 2.76, June(6) averaged 10.3, July(7) averaged 11.6, August(8) averaged 12.1, September(9) averaged 8.4, and October(10) averaged 5.4. The following was noticed: \n",
    "\n",
    "- Summary months have the highest average per mosquitos caught. July and August have the highest.\n",
    "- Both the beginning (May) and ending month (October) has the lowest average number of mosquitos caught.\n",
    "- It can be inferred that the warmer the weather the higher the average number of mosquitos caught."
   ]
  },
  {
   "cell_type": "markdown",
   "id": "190824ed",
   "metadata": {},
   "source": [
    "## Statistical Analysis"
   ]
  },
  {
   "cell_type": "markdown",
   "id": "254a44df",
   "metadata": {},
   "source": [
    "After basic analysis, now moving on to exploring statistical data. Specifically, is there a statistically significant difference between the different mosquito species when looking at the occurrence of West Nile Virus? Also, there will be a look at which columns are positively correlated with the number of mosquitoes caught? Which columns are negatively correlated? Are these correlations statistically significant?"
   ]
  },
  {
   "cell_type": "code",
   "execution_count": 546,
   "id": "5b36e4fd",
   "metadata": {},
   "outputs": [],
   "source": [
    "#importing our stat libraries\n",
    "from scipy import stats\n",
    "from scipy.stats import norm"
   ]
  },
  {
   "cell_type": "markdown",
   "id": "d15ee1fc",
   "metadata": {},
   "source": [
    "Now looking at descriptive statistics."
   ]
  },
  {
   "cell_type": "code",
   "execution_count": 547,
   "id": "f6c810ab",
   "metadata": {},
   "outputs": [
    {
     "data": {
      "text/plain": [
       "count              18495\n",
       "unique                 4\n",
       "top       CULEX RESTUANS\n",
       "freq               11866\n",
       "Name: Species, dtype: object"
      ]
     },
     "execution_count": 547,
     "metadata": {},
     "output_type": "execute_result"
    }
   ],
   "source": [
    "mdf['Species'].describe()"
   ]
  },
  {
   "cell_type": "code",
   "execution_count": 548,
   "id": "63da0fbb",
   "metadata": {},
   "outputs": [
    {
     "data": {
      "text/plain": [
       "count    18495.000000\n",
       "mean         0.215950\n",
       "std          0.411491\n",
       "min          0.000000\n",
       "25%          0.000000\n",
       "50%          0.000000\n",
       "75%          0.000000\n",
       "max          1.000000\n",
       "Name: WNV Present, dtype: float64"
      ]
     },
     "execution_count": 548,
     "metadata": {},
     "output_type": "execute_result"
    }
   ],
   "source": [
    "mdf['WNV Present'].describe()"
   ]
  },
  {
   "cell_type": "code",
   "execution_count": 549,
   "id": "62b6f7d9",
   "metadata": {},
   "outputs": [
    {
     "name": "stderr",
     "output_type": "stream",
     "text": [
      "/var/folders/26/3jnnrvjs3534y_dh9pff888c0000gn/T/ipykernel_63025/1081779304.py:2: FutureWarning: ['Address Block', 'Trap', 'Trap type', 'Date'] did not aggregate successfully. If any error is raised this will raise in a future version of pandas. Drop these columns/ops to avoid this warning.\n",
      "  mdf.groupby('Species').agg(['mean', 'median', 'std', 'var', 'count'])\n"
     ]
    },
    {
     "data": {
      "text/html": [
       "<div>\n",
       "<style scoped>\n",
       "    .dataframe tbody tr th:only-of-type {\n",
       "        vertical-align: middle;\n",
       "    }\n",
       "\n",
       "    .dataframe tbody tr th {\n",
       "        vertical-align: top;\n",
       "    }\n",
       "\n",
       "    .dataframe thead tr th {\n",
       "        text-align: left;\n",
       "    }\n",
       "\n",
       "    .dataframe thead tr:last-of-type th {\n",
       "        text-align: right;\n",
       "    }\n",
       "</style>\n",
       "<table border=\"1\" class=\"dataframe\">\n",
       "  <thead>\n",
       "    <tr>\n",
       "      <th></th>\n",
       "      <th colspan=\"5\" halign=\"left\">Year</th>\n",
       "      <th colspan=\"5\" halign=\"left\">Week</th>\n",
       "      <th>...</th>\n",
       "      <th colspan=\"5\" halign=\"left\">Lon</th>\n",
       "      <th colspan=\"5\" halign=\"left\">Month</th>\n",
       "    </tr>\n",
       "    <tr>\n",
       "      <th></th>\n",
       "      <th>mean</th>\n",
       "      <th>median</th>\n",
       "      <th>std</th>\n",
       "      <th>var</th>\n",
       "      <th>count</th>\n",
       "      <th>mean</th>\n",
       "      <th>median</th>\n",
       "      <th>std</th>\n",
       "      <th>var</th>\n",
       "      <th>count</th>\n",
       "      <th>...</th>\n",
       "      <th>mean</th>\n",
       "      <th>median</th>\n",
       "      <th>std</th>\n",
       "      <th>var</th>\n",
       "      <th>count</th>\n",
       "      <th>mean</th>\n",
       "      <th>median</th>\n",
       "      <th>std</th>\n",
       "      <th>var</th>\n",
       "      <th>count</th>\n",
       "    </tr>\n",
       "    <tr>\n",
       "      <th>Species</th>\n",
       "      <th></th>\n",
       "      <th></th>\n",
       "      <th></th>\n",
       "      <th></th>\n",
       "      <th></th>\n",
       "      <th></th>\n",
       "      <th></th>\n",
       "      <th></th>\n",
       "      <th></th>\n",
       "      <th></th>\n",
       "      <th></th>\n",
       "      <th></th>\n",
       "      <th></th>\n",
       "      <th></th>\n",
       "      <th></th>\n",
       "      <th></th>\n",
       "      <th></th>\n",
       "      <th></th>\n",
       "      <th></th>\n",
       "      <th></th>\n",
       "      <th></th>\n",
       "    </tr>\n",
       "  </thead>\n",
       "  <tbody>\n",
       "    <tr>\n",
       "      <th>CULEX PIPIENS</th>\n",
       "      <td>2010.911593</td>\n",
       "      <td>2011.0</td>\n",
       "      <td>3.217889</td>\n",
       "      <td>10.354808</td>\n",
       "      <td>5486</td>\n",
       "      <td>33.117207</td>\n",
       "      <td>33.0</td>\n",
       "      <td>3.456558</td>\n",
       "      <td>11.947791</td>\n",
       "      <td>5486</td>\n",
       "      <td>...</td>\n",
       "      <td>-87.709392</td>\n",
       "      <td>-87.701395</td>\n",
       "      <td>0.096451</td>\n",
       "      <td>0.009303</td>\n",
       "      <td>5486</td>\n",
       "      <td>8.135436</td>\n",
       "      <td>8.0</td>\n",
       "      <td>0.792671</td>\n",
       "      <td>0.628327</td>\n",
       "      <td>5486</td>\n",
       "    </tr>\n",
       "    <tr>\n",
       "      <th>CULEX RESTUANS</th>\n",
       "      <td>2013.863475</td>\n",
       "      <td>2014.0</td>\n",
       "      <td>3.546558</td>\n",
       "      <td>12.578073</td>\n",
       "      <td>11866</td>\n",
       "      <td>29.982134</td>\n",
       "      <td>30.0</td>\n",
       "      <td>4.334168</td>\n",
       "      <td>18.785016</td>\n",
       "      <td>11866</td>\n",
       "      <td>...</td>\n",
       "      <td>-87.716553</td>\n",
       "      <td>-87.703107</td>\n",
       "      <td>0.094590</td>\n",
       "      <td>0.008947</td>\n",
       "      <td>11866</td>\n",
       "      <td>7.382774</td>\n",
       "      <td>7.0</td>\n",
       "      <td>0.991810</td>\n",
       "      <td>0.983686</td>\n",
       "      <td>11866</td>\n",
       "    </tr>\n",
       "    <tr>\n",
       "      <th>CULEX SALINARIUS</th>\n",
       "      <td>2010.676991</td>\n",
       "      <td>2010.0</td>\n",
       "      <td>3.110856</td>\n",
       "      <td>9.677424</td>\n",
       "      <td>226</td>\n",
       "      <td>30.539823</td>\n",
       "      <td>30.0</td>\n",
       "      <td>3.820495</td>\n",
       "      <td>14.596185</td>\n",
       "      <td>226</td>\n",
       "      <td>...</td>\n",
       "      <td>-87.716251</td>\n",
       "      <td>-87.701788</td>\n",
       "      <td>0.107582</td>\n",
       "      <td>0.011574</td>\n",
       "      <td>226</td>\n",
       "      <td>7.535398</td>\n",
       "      <td>8.0</td>\n",
       "      <td>0.889986</td>\n",
       "      <td>0.792075</td>\n",
       "      <td>226</td>\n",
       "    </tr>\n",
       "    <tr>\n",
       "      <th>CULEX TERRITANS</th>\n",
       "      <td>2012.993457</td>\n",
       "      <td>2013.0</td>\n",
       "      <td>4.004904</td>\n",
       "      <td>16.039258</td>\n",
       "      <td>917</td>\n",
       "      <td>31.699019</td>\n",
       "      <td>32.0</td>\n",
       "      <td>4.430803</td>\n",
       "      <td>19.632019</td>\n",
       "      <td>917</td>\n",
       "      <td>...</td>\n",
       "      <td>-87.679969</td>\n",
       "      <td>-87.679463</td>\n",
       "      <td>0.089496</td>\n",
       "      <td>0.008010</td>\n",
       "      <td>917</td>\n",
       "      <td>7.769902</td>\n",
       "      <td>8.0</td>\n",
       "      <td>1.034582</td>\n",
       "      <td>1.070359</td>\n",
       "      <td>917</td>\n",
       "    </tr>\n",
       "  </tbody>\n",
       "</table>\n",
       "<p>4 rows × 35 columns</p>\n",
       "</div>"
      ],
      "text/plain": [
       "                         Year                                           Week  \\\n",
       "                         mean  median       std        var  count       mean   \n",
       "Species                                                                        \n",
       "CULEX PIPIENS     2010.911593  2011.0  3.217889  10.354808   5486  33.117207   \n",
       "CULEX RESTUANS    2013.863475  2014.0  3.546558  12.578073  11866  29.982134   \n",
       "CULEX SALINARIUS  2010.676991  2010.0  3.110856   9.677424    226  30.539823   \n",
       "CULEX TERRITANS   2012.993457  2013.0  4.004904  16.039258    917  31.699019   \n",
       "\n",
       "                                                     ...        Lon  \\\n",
       "                 median       std        var  count  ...       mean   \n",
       "Species                                              ...              \n",
       "CULEX PIPIENS      33.0  3.456558  11.947791   5486  ... -87.709392   \n",
       "CULEX RESTUANS     30.0  4.334168  18.785016  11866  ... -87.716553   \n",
       "CULEX SALINARIUS   30.0  3.820495  14.596185    226  ... -87.716251   \n",
       "CULEX TERRITANS    32.0  4.430803  19.632019    917  ... -87.679969   \n",
       "\n",
       "                                                           Month         \\\n",
       "                     median       std       var  count      mean median   \n",
       "Species                                                                   \n",
       "CULEX PIPIENS    -87.701395  0.096451  0.009303   5486  8.135436    8.0   \n",
       "CULEX RESTUANS   -87.703107  0.094590  0.008947  11866  7.382774    7.0   \n",
       "CULEX SALINARIUS -87.701788  0.107582  0.011574    226  7.535398    8.0   \n",
       "CULEX TERRITANS  -87.679463  0.089496  0.008010    917  7.769902    8.0   \n",
       "\n",
       "                                             \n",
       "                       std       var  count  \n",
       "Species                                      \n",
       "CULEX PIPIENS     0.792671  0.628327   5486  \n",
       "CULEX RESTUANS    0.991810  0.983686  11866  \n",
       "CULEX SALINARIUS  0.889986  0.792075    226  \n",
       "CULEX TERRITANS   1.034582  1.070359    917  \n",
       "\n",
       "[4 rows x 35 columns]"
      ]
     },
     "execution_count": 549,
     "metadata": {},
     "output_type": "execute_result"
    }
   ],
   "source": [
    "# Using a groupby to get the agg for 'Species'\n",
    "mdf.groupby('Species').agg(['mean', 'median', 'std', 'var', 'count'])"
   ]
  },
  {
   "cell_type": "code",
   "execution_count": 550,
   "id": "8c51d76f",
   "metadata": {},
   "outputs": [
    {
     "name": "stderr",
     "output_type": "stream",
     "text": [
      "/var/folders/26/3jnnrvjs3534y_dh9pff888c0000gn/T/ipykernel_63025/675846650.py:2: FutureWarning: ['Address Block', 'Trap', 'Trap type', 'Date', 'Species'] did not aggregate successfully. If any error is raised this will raise in a future version of pandas. Drop these columns/ops to avoid this warning.\n",
      "  mdf.groupby('WNV Present').agg(['mean', 'median', 'std', 'var', 'count'])\n"
     ]
    },
    {
     "data": {
      "text/html": [
       "<div>\n",
       "<style scoped>\n",
       "    .dataframe tbody tr th:only-of-type {\n",
       "        vertical-align: middle;\n",
       "    }\n",
       "\n",
       "    .dataframe tbody tr th {\n",
       "        vertical-align: top;\n",
       "    }\n",
       "\n",
       "    .dataframe thead tr th {\n",
       "        text-align: left;\n",
       "    }\n",
       "\n",
       "    .dataframe thead tr:last-of-type th {\n",
       "        text-align: right;\n",
       "    }\n",
       "</style>\n",
       "<table border=\"1\" class=\"dataframe\">\n",
       "  <thead>\n",
       "    <tr>\n",
       "      <th></th>\n",
       "      <th colspan=\"5\" halign=\"left\">Year</th>\n",
       "      <th colspan=\"5\" halign=\"left\">Week</th>\n",
       "      <th>...</th>\n",
       "      <th colspan=\"5\" halign=\"left\">Lon</th>\n",
       "      <th colspan=\"5\" halign=\"left\">Month</th>\n",
       "    </tr>\n",
       "    <tr>\n",
       "      <th></th>\n",
       "      <th>mean</th>\n",
       "      <th>median</th>\n",
       "      <th>std</th>\n",
       "      <th>var</th>\n",
       "      <th>count</th>\n",
       "      <th>mean</th>\n",
       "      <th>median</th>\n",
       "      <th>std</th>\n",
       "      <th>var</th>\n",
       "      <th>count</th>\n",
       "      <th>...</th>\n",
       "      <th>mean</th>\n",
       "      <th>median</th>\n",
       "      <th>std</th>\n",
       "      <th>var</th>\n",
       "      <th>count</th>\n",
       "      <th>mean</th>\n",
       "      <th>median</th>\n",
       "      <th>std</th>\n",
       "      <th>var</th>\n",
       "      <th>count</th>\n",
       "    </tr>\n",
       "    <tr>\n",
       "      <th>WNV Present</th>\n",
       "      <th></th>\n",
       "      <th></th>\n",
       "      <th></th>\n",
       "      <th></th>\n",
       "      <th></th>\n",
       "      <th></th>\n",
       "      <th></th>\n",
       "      <th></th>\n",
       "      <th></th>\n",
       "      <th></th>\n",
       "      <th></th>\n",
       "      <th></th>\n",
       "      <th></th>\n",
       "      <th></th>\n",
       "      <th></th>\n",
       "      <th></th>\n",
       "      <th></th>\n",
       "      <th></th>\n",
       "      <th></th>\n",
       "      <th></th>\n",
       "      <th></th>\n",
       "    </tr>\n",
       "  </thead>\n",
       "  <tbody>\n",
       "    <tr>\n",
       "      <th>0</th>\n",
       "      <td>2012.604924</td>\n",
       "      <td>2013.0</td>\n",
       "      <td>3.762827</td>\n",
       "      <td>14.158870</td>\n",
       "      <td>14501</td>\n",
       "      <td>30.607820</td>\n",
       "      <td>30.0</td>\n",
       "      <td>4.626123</td>\n",
       "      <td>21.401012</td>\n",
       "      <td>14501</td>\n",
       "      <td>...</td>\n",
       "      <td>-87.704402</td>\n",
       "      <td>-87.694902</td>\n",
       "      <td>0.093595</td>\n",
       "      <td>0.008760</td>\n",
       "      <td>14501</td>\n",
       "      <td>7.542583</td>\n",
       "      <td>8.0</td>\n",
       "      <td>1.059504</td>\n",
       "      <td>1.122549</td>\n",
       "      <td>14501</td>\n",
       "    </tr>\n",
       "    <tr>\n",
       "      <th>1</th>\n",
       "      <td>2013.998247</td>\n",
       "      <td>2015.0</td>\n",
       "      <td>3.370107</td>\n",
       "      <td>11.357623</td>\n",
       "      <td>3994</td>\n",
       "      <td>32.442414</td>\n",
       "      <td>32.0</td>\n",
       "      <td>2.562089</td>\n",
       "      <td>6.564301</td>\n",
       "      <td>3994</td>\n",
       "      <td>...</td>\n",
       "      <td>-87.742419</td>\n",
       "      <td>-87.731550</td>\n",
       "      <td>0.096004</td>\n",
       "      <td>0.009217</td>\n",
       "      <td>3994</td>\n",
       "      <td>7.933901</td>\n",
       "      <td>8.0</td>\n",
       "      <td>0.646040</td>\n",
       "      <td>0.417368</td>\n",
       "      <td>3994</td>\n",
       "    </tr>\n",
       "  </tbody>\n",
       "</table>\n",
       "<p>2 rows × 30 columns</p>\n",
       "</div>"
      ],
      "text/plain": [
       "                    Year                                           Week  \\\n",
       "                    mean  median       std        var  count       mean   \n",
       "WNV Present                                                               \n",
       "0            2012.604924  2013.0  3.762827  14.158870  14501  30.607820   \n",
       "1            2013.998247  2015.0  3.370107  11.357623   3994  32.442414   \n",
       "\n",
       "                                                ...        Lon             \\\n",
       "            median       std        var  count  ...       mean     median   \n",
       "WNV Present                                     ...                         \n",
       "0             30.0  4.626123  21.401012  14501  ... -87.704402 -87.694902   \n",
       "1             32.0  2.562089   6.564301   3994  ... -87.742419 -87.731550   \n",
       "\n",
       "                                           Month                             \\\n",
       "                  std       var  count      mean median       std       var   \n",
       "WNV Present                                                                   \n",
       "0            0.093595  0.008760  14501  7.542583    8.0  1.059504  1.122549   \n",
       "1            0.096004  0.009217   3994  7.933901    8.0  0.646040  0.417368   \n",
       "\n",
       "                    \n",
       "             count  \n",
       "WNV Present         \n",
       "0            14501  \n",
       "1             3994  \n",
       "\n",
       "[2 rows x 30 columns]"
      ]
     },
     "execution_count": 550,
     "metadata": {},
     "output_type": "execute_result"
    }
   ],
   "source": [
    "# Using a group by to get the agg for 'WNV Present'\n",
    "mdf.groupby('WNV Present').agg(['mean', 'median', 'std', 'var', 'count'])"
   ]
  },
  {
   "cell_type": "code",
   "execution_count": 551,
   "id": "ab61e04c",
   "metadata": {},
   "outputs": [],
   "source": [
    "# Using a group by to see aggregate for Species and WNV Present together.\n",
    "species_occurance = mdf.groupby('Species')['WNV Present'].agg(['mean', 'median', 'std', 'var', 'count'])"
   ]
  },
  {
   "cell_type": "code",
   "execution_count": 552,
   "id": "e6d6a4cf",
   "metadata": {},
   "outputs": [
    {
     "data": {
      "text/html": [
       "<div>\n",
       "<style scoped>\n",
       "    .dataframe tbody tr th:only-of-type {\n",
       "        vertical-align: middle;\n",
       "    }\n",
       "\n",
       "    .dataframe tbody tr th {\n",
       "        vertical-align: top;\n",
       "    }\n",
       "\n",
       "    .dataframe thead th {\n",
       "        text-align: right;\n",
       "    }\n",
       "</style>\n",
       "<table border=\"1\" class=\"dataframe\">\n",
       "  <thead>\n",
       "    <tr style=\"text-align: right;\">\n",
       "      <th></th>\n",
       "      <th>mean</th>\n",
       "      <th>median</th>\n",
       "      <th>std</th>\n",
       "      <th>var</th>\n",
       "      <th>count</th>\n",
       "    </tr>\n",
       "    <tr>\n",
       "      <th>Species</th>\n",
       "      <th></th>\n",
       "      <th></th>\n",
       "      <th></th>\n",
       "      <th></th>\n",
       "      <th></th>\n",
       "    </tr>\n",
       "  </thead>\n",
       "  <tbody>\n",
       "    <tr>\n",
       "      <th>CULEX PIPIENS</th>\n",
       "      <td>0.257382</td>\n",
       "      <td>0.0</td>\n",
       "      <td>0.437232</td>\n",
       "      <td>0.191172</td>\n",
       "      <td>5486</td>\n",
       "    </tr>\n",
       "    <tr>\n",
       "      <th>CULEX RESTUANS</th>\n",
       "      <td>0.215490</td>\n",
       "      <td>0.0</td>\n",
       "      <td>0.411179</td>\n",
       "      <td>0.169068</td>\n",
       "      <td>11866</td>\n",
       "    </tr>\n",
       "    <tr>\n",
       "      <th>CULEX SALINARIUS</th>\n",
       "      <td>0.048673</td>\n",
       "      <td>0.0</td>\n",
       "      <td>0.215660</td>\n",
       "      <td>0.046509</td>\n",
       "      <td>226</td>\n",
       "    </tr>\n",
       "    <tr>\n",
       "      <th>CULEX TERRITANS</th>\n",
       "      <td>0.015267</td>\n",
       "      <td>0.0</td>\n",
       "      <td>0.122680</td>\n",
       "      <td>0.015051</td>\n",
       "      <td>917</td>\n",
       "    </tr>\n",
       "  </tbody>\n",
       "</table>\n",
       "</div>"
      ],
      "text/plain": [
       "                      mean  median       std       var  count\n",
       "Species                                                      \n",
       "CULEX PIPIENS     0.257382     0.0  0.437232  0.191172   5486\n",
       "CULEX RESTUANS    0.215490     0.0  0.411179  0.169068  11866\n",
       "CULEX SALINARIUS  0.048673     0.0  0.215660  0.046509    226\n",
       "CULEX TERRITANS   0.015267     0.0  0.122680  0.015051    917"
      ]
     },
     "execution_count": 552,
     "metadata": {},
     "output_type": "execute_result"
    }
   ],
   "source": [
    "species_occurance"
   ]
  },
  {
   "cell_type": "markdown",
   "id": "1839db77",
   "metadata": {},
   "source": [
    "Initially, there looks to be some statistical difference looking at the table between 'Species' and 'WNV Present.' To be sure the following steps will be taken: \n",
    "\n",
    "- Plot out the mean, var, and count to get visuals of what we are seeing.\n",
    "- Conduct an ANOVA, or 'Analysis Of Variance', to compare the (4) 'Species'. \n",
    "\n",
    "Written is the null hypothesis and the alternative hypothesis\n",
    "\n",
    "𝐻0\n",
    " : The means of Culex Pipiens, Culex Restuans, Culex Salinarius, and Culex Territans are all equal. (**p-Value > 0.05**)\n",
    "\n",
    "𝐻1\n",
    " : There is at least some difference between the means of each 'Species.'(**p-Value < 0.05**)\n",
    " \n",
    "**The p-Value threshold used will be 0.05.**\n",
    " "
   ]
  },
  {
   "cell_type": "code",
   "execution_count": 553,
   "id": "9a47e20d",
   "metadata": {},
   "outputs": [
    {
     "data": {
      "image/png": "[encoded data removed]",
      "text/plain": [
       "<Figure size 640x480 with 1 Axes>"
      ]
     },
     "metadata": {},
     "output_type": "display_data"
    }
   ],
   "source": [
    "plt.figure()\n",
    "plt.bar(species_occurance.index.values, species_occurance['mean']*100, color=['b','b','b','b'])\n",
    "plt.xlabel(\"Species\")\n",
    "plt.ylabel(\"WNV Present Percentage\")\n",
    "plt.title(\"Species & WNV Present Occurence\")\n",
    "plt.xticks(rotation = 45)\n",
    "plt.show()"
   ]
  },
  {
   "cell_type": "code",
   "execution_count": 554,
   "id": "f3d3e83b",
   "metadata": {},
   "outputs": [
    {
     "data": {
      "image/png": "[encoded data removed]",
      "text/plain": [
       "<Figure size 640x480 with 1 Axes>"
      ]
     },
     "metadata": {},
     "output_type": "display_data"
    }
   ],
   "source": [
    "plt.figure()\n",
    "plt.bar(species_occurance.index.values, species_occurance['count'], color=['g','g','g','g'])\n",
    "plt.xlabel(\"Species\")\n",
    "plt.ylabel(\"WNV Present\")\n",
    "plt.title(\"Species & WNV Present Occurence\")\n",
    "plt.xticks(rotation = 45)\n",
    "plt.show()"
   ]
  },
  {
   "cell_type": "code",
   "execution_count": 555,
   "id": "1722700b",
   "metadata": {},
   "outputs": [
    {
     "data": {
      "image/png": "[encoded data removed]",
      "text/plain": [
       "<Figure size 640x480 with 1 Axes>"
      ]
     },
     "metadata": {},
     "output_type": "display_data"
    }
   ],
   "source": [
    "plt.figure()\n",
    "plt.bar(species_occurance.index.values, species_occurance['var']*100, color=['c','c','c','c'])\n",
    "plt.xlabel(\"Species\")\n",
    "plt.ylabel(\"WNV Present Percentage\")\n",
    "plt.title(\"Species & WNV Present Occurence\")\n",
    "plt.xticks(rotation = 45)\n",
    "plt.show()"
   ]
  },
  {
   "cell_type": "code",
   "execution_count": 556,
   "id": "2ce19bab",
   "metadata": {},
   "outputs": [],
   "source": [
    "anova_data = {} # empty dictionary\n",
    "yikes_mosquitos = mdf['Species'].unique()\n",
    "\n",
    "for species in yikes_mosquitos: # slice out the prevalence for each species \n",
    "    anova_data[species] = mdf.loc[mdf['Species'] == species, 'WNV Present']"
   ]
  },
  {
   "cell_type": "code",
   "execution_count": 557,
   "id": "b309c749",
   "metadata": {},
   "outputs": [
    {
     "data": {
      "text/plain": [
       "F_onewayResult(statistic=105.45270503888439, pvalue=1.082615440825039e-67)"
      ]
     },
     "execution_count": 557,
     "metadata": {},
     "output_type": "execute_result"
    }
   ],
   "source": [
    "stats.f_oneway(anova_data['CULEX PIPIENS'], \n",
    "               anova_data['CULEX RESTUANS'], \n",
    "               anova_data['CULEX SALINARIUS'],\n",
    "               anova_data['CULEX TERRITANS'])"
   ]
  },
  {
   "cell_type": "markdown",
   "id": "a6acaaae",
   "metadata": {},
   "source": [
    "After conducting the ANOVA test we can see that the p-value is very small! Which means that there is statistical difference between the 'Species' and 'WNV' present.' However, to be sure a Tom's Turkey Test will be ran."
   ]
  },
  {
   "cell_type": "code",
   "execution_count": 558,
   "id": "5d593853",
   "metadata": {},
   "outputs": [
    {
     "data": {
      "text/html": [
       "<table class=\"simpletable\">\n",
       "<caption>Multiple Comparison of Means - Tukey HSD, FWER=0.05</caption>\n",
       "<tr>\n",
       "       <th>group1</th>           <th>group2</th>      <th>meandiff</th>  <th>p-adj</th>  <th>lower</th>   <th>upper</th>  <th>reject</th>\n",
       "</tr>\n",
       "<tr>\n",
       "    <td>CULEX PIPIENS</td>   <td>CULEX RESTUANS</td>   <td>-0.0419</td>   <td>0.0</td>  <td>-0.059</td>  <td>-0.0248</td>  <td>True</td> \n",
       "</tr>\n",
       "<tr>\n",
       "    <td>CULEX PIPIENS</td>  <td>CULEX SALINARIUS</td>  <td>-0.2087</td>   <td>0.0</td>  <td>-0.2799</td> <td>-0.1376</td>  <td>True</td> \n",
       "</tr>\n",
       "<tr>\n",
       "    <td>CULEX PIPIENS</td>   <td>CULEX TERRITANS</td>  <td>-0.2421</td>   <td>0.0</td>  <td>-0.2795</td> <td>-0.2047</td>  <td>True</td> \n",
       "</tr>\n",
       "<tr>\n",
       "   <td>CULEX RESTUANS</td>  <td>CULEX SALINARIUS</td>  <td>-0.1668</td>   <td>0.0</td>  <td>-0.2372</td> <td>-0.0964</td>  <td>True</td> \n",
       "</tr>\n",
       "<tr>\n",
       "   <td>CULEX RESTUANS</td>   <td>CULEX TERRITANS</td>  <td>-0.2002</td>   <td>0.0</td>  <td>-0.2362</td> <td>-0.1643</td>  <td>True</td> \n",
       "</tr>\n",
       "<tr>\n",
       "  <td>CULEX SALINARIUS</td>  <td>CULEX TERRITANS</td>  <td>-0.0334</td> <td>0.6881</td> <td>-0.1113</td> <td>0.0445</td>   <td>False</td>\n",
       "</tr>\n",
       "</table>"
      ],
      "text/plain": [
       "<class 'statsmodels.iolib.table.SimpleTable'>"
      ]
     },
     "execution_count": 558,
     "metadata": {},
     "output_type": "execute_result"
    }
   ],
   "source": [
    "from statsmodels.stats import multicomp\n",
    "\n",
    "multicomp.pairwise_tukeyhsd(mdf['WNV Present'], mdf['Species']).summary()"
   ]
  },
  {
   "cell_type": "markdown",
   "id": "5fa73058",
   "metadata": {},
   "source": [
    "**In all cases, the null hypothesis is rejected unless in the case of comparing 'CULEX SALINARIUS' and 'CULEX TERRITANS.'Based on the analysis, there is statistically significant difference.**\n",
    "\n",
    "Now moving on to analyze which columns are positively correlated with the number of mosquitoes caught and which columns are negatively correlated. After this, determining if these correlations are statistically significant."
   ]
  },
  {
   "cell_type": "code",
   "execution_count": 559,
   "id": "5d1e83de",
   "metadata": {},
   "outputs": [
    {
     "name": "stderr",
     "output_type": "stream",
     "text": [
      "/var/folders/26/3jnnrvjs3534y_dh9pff888c0000gn/T/ipykernel_63025/4126486251.py:2: FutureWarning: The default value of numeric_only in DataFrame.corr is deprecated. In a future version, it will default to False. Select only valid columns or specify the value of numeric_only to silence this warning.\n",
      "  mdf.corr()\n"
     ]
    },
    {
     "data": {
      "text/html": [
       "<div>\n",
       "<style scoped>\n",
       "    .dataframe tbody tr th:only-of-type {\n",
       "        vertical-align: middle;\n",
       "    }\n",
       "\n",
       "    .dataframe tbody tr th {\n",
       "        vertical-align: top;\n",
       "    }\n",
       "\n",
       "    .dataframe thead th {\n",
       "        text-align: right;\n",
       "    }\n",
       "</style>\n",
       "<table border=\"1\" class=\"dataframe\">\n",
       "  <thead>\n",
       "    <tr style=\"text-align: right;\">\n",
       "      <th></th>\n",
       "      <th>Year</th>\n",
       "      <th>Week</th>\n",
       "      <th>Mosquito number</th>\n",
       "      <th>WNV Present</th>\n",
       "      <th>Lat</th>\n",
       "      <th>Lon</th>\n",
       "      <th>Month</th>\n",
       "    </tr>\n",
       "  </thead>\n",
       "  <tbody>\n",
       "    <tr>\n",
       "      <th>Year</th>\n",
       "      <td>1.000000</td>\n",
       "      <td>-0.023283</td>\n",
       "      <td>0.129326</td>\n",
       "      <td>0.153881</td>\n",
       "      <td>0.093983</td>\n",
       "      <td>-0.094628</td>\n",
       "      <td>-0.100847</td>\n",
       "    </tr>\n",
       "    <tr>\n",
       "      <th>Week</th>\n",
       "      <td>-0.023283</td>\n",
       "      <td>1.000000</td>\n",
       "      <td>-0.033900</td>\n",
       "      <td>0.174265</td>\n",
       "      <td>-0.002876</td>\n",
       "      <td>0.002967</td>\n",
       "      <td>0.948940</td>\n",
       "    </tr>\n",
       "    <tr>\n",
       "      <th>Mosquito number</th>\n",
       "      <td>0.129326</td>\n",
       "      <td>-0.033900</td>\n",
       "      <td>1.000000</td>\n",
       "      <td>0.408034</td>\n",
       "      <td>0.096820</td>\n",
       "      <td>-0.151421</td>\n",
       "      <td>-0.040426</td>\n",
       "    </tr>\n",
       "    <tr>\n",
       "      <th>WNV Present</th>\n",
       "      <td>0.153881</td>\n",
       "      <td>0.174265</td>\n",
       "      <td>0.408034</td>\n",
       "      <td>1.000000</td>\n",
       "      <td>0.110175</td>\n",
       "      <td>-0.163967</td>\n",
       "      <td>0.161334</td>\n",
       "    </tr>\n",
       "    <tr>\n",
       "      <th>Lat</th>\n",
       "      <td>0.093983</td>\n",
       "      <td>-0.002876</td>\n",
       "      <td>0.096820</td>\n",
       "      <td>0.110175</td>\n",
       "      <td>1.000000</td>\n",
       "      <td>-0.749416</td>\n",
       "      <td>-0.011544</td>\n",
       "    </tr>\n",
       "    <tr>\n",
       "      <th>Lon</th>\n",
       "      <td>-0.094628</td>\n",
       "      <td>0.002967</td>\n",
       "      <td>-0.151421</td>\n",
       "      <td>-0.163967</td>\n",
       "      <td>-0.749416</td>\n",
       "      <td>1.000000</td>\n",
       "      <td>0.010695</td>\n",
       "    </tr>\n",
       "    <tr>\n",
       "      <th>Month</th>\n",
       "      <td>-0.100847</td>\n",
       "      <td>0.948940</td>\n",
       "      <td>-0.040426</td>\n",
       "      <td>0.161334</td>\n",
       "      <td>-0.011544</td>\n",
       "      <td>0.010695</td>\n",
       "      <td>1.000000</td>\n",
       "    </tr>\n",
       "  </tbody>\n",
       "</table>\n",
       "</div>"
      ],
      "text/plain": [
       "                     Year      Week  Mosquito number  WNV Present       Lat  \\\n",
       "Year             1.000000 -0.023283         0.129326     0.153881  0.093983   \n",
       "Week            -0.023283  1.000000        -0.033900     0.174265 -0.002876   \n",
       "Mosquito number  0.129326 -0.033900         1.000000     0.408034  0.096820   \n",
       "WNV Present      0.153881  0.174265         0.408034     1.000000  0.110175   \n",
       "Lat              0.093983 -0.002876         0.096820     0.110175  1.000000   \n",
       "Lon             -0.094628  0.002967        -0.151421    -0.163967 -0.749416   \n",
       "Month           -0.100847  0.948940        -0.040426     0.161334 -0.011544   \n",
       "\n",
       "                      Lon     Month  \n",
       "Year            -0.094628 -0.100847  \n",
       "Week             0.002967  0.948940  \n",
       "Mosquito number -0.151421 -0.040426  \n",
       "WNV Present     -0.163967  0.161334  \n",
       "Lat             -0.749416 -0.011544  \n",
       "Lon              1.000000  0.010695  \n",
       "Month            0.010695  1.000000  "
      ]
     },
     "execution_count": 559,
     "metadata": {},
     "output_type": "execute_result"
    }
   ],
   "source": [
    "# Defining the correlation matrix.\n",
    "mdf.corr()"
   ]
  },
  {
   "cell_type": "code",
   "execution_count": 560,
   "id": "202734ad",
   "metadata": {},
   "outputs": [
    {
     "name": "stderr",
     "output_type": "stream",
     "text": [
      "/var/folders/26/3jnnrvjs3534y_dh9pff888c0000gn/T/ipykernel_63025/3241133863.py:2: FutureWarning: The default value of numeric_only in DataFrame.corr is deprecated. In a future version, it will default to False. Select only valid columns or specify the value of numeric_only to silence this warning.\n",
      "  mdf.corr()['Mosquito number']\n"
     ]
    },
    {
     "data": {
      "text/plain": [
       "Year               0.129326\n",
       "Week              -0.033900\n",
       "Mosquito number    1.000000\n",
       "WNV Present        0.408034\n",
       "Lat                0.096820\n",
       "Lon               -0.151421\n",
       "Month             -0.040426\n",
       "Name: Mosquito number, dtype: float64"
      ]
     },
     "execution_count": 560,
     "metadata": {},
     "output_type": "execute_result"
    }
   ],
   "source": [
    "# Defining the corelations using 'Mosquito number' specifically.\n",
    "mdf.corr()['Mosquito number']"
   ]
  },
  {
   "cell_type": "code",
   "execution_count": 561,
   "id": "9da7cd25",
   "metadata": {},
   "outputs": [
    {
     "name": "stderr",
     "output_type": "stream",
     "text": [
      "/var/folders/26/3jnnrvjs3534y_dh9pff888c0000gn/T/ipykernel_63025/2426488155.py:3: FutureWarning: The default value of numeric_only in DataFrame.corr is deprecated. In a future version, it will default to False. Select only valid columns or specify the value of numeric_only to silence this warning.\n",
      "  sns.heatmap(mdf.corr(), annot=True, vmax=1, vmin=-1, center=0, cmap='coolwarm')\n"
     ]
    },
    {
     "data": {
      "image/png": "[encoded data removed]",
      "text/plain": [
       "<Figure size 700x700 with 2 Axes>"
      ]
     },
     "metadata": {},
     "output_type": "display_data"
    }
   ],
   "source": [
    "# plotting a visual to see positive and negative correlation with mosquito number.\n",
    "plt.figure(figsize=(7,7))\n",
    "sns.heatmap(mdf.corr(), annot=True, vmax=1, vmin=-1, center=0, cmap='coolwarm')\n",
    "plt.show()"
   ]
  },
  {
   "cell_type": "markdown",
   "id": "3872aba3",
   "metadata": {},
   "source": [
    "Based off the following visual, it is observed that when looking at number of mosquitos caught or 'Mosquito number' there are columns with positive and negative correlation. However, there does not seem to be a very STRONG postive correlation displayed on the heatmap. An additional interesting insight is that 'Species' and 'Trap type' were not on the columns. This is likely due to the fact that they are not numeric. Listed below are the colunns with negative and positive correlation: \n",
    "\n",
    "**Negative:** Month, Lon, and Week.\n",
    "\n",
    "**Positive:** WNV Present, Year, and Lat.\n",
    "\n",
    "The highest correlation is between 'Mosquito number' and 'WNV Present' with a correlation coefficient of **0.41**.\n",
    "\n",
    "Now moving forward with running a linear regression to determine how the independent variables affect the number of mosquitos caught, and running a logistic regression to determine how the independent variables affect West Nile Virus presence. "
   ]
  },
  {
   "cell_type": "markdown",
   "id": "ba395a54",
   "metadata": {},
   "source": [
    "## Advanced Statistical Analysis"
   ]
  },
  {
   "cell_type": "markdown",
   "id": "ca5c6571",
   "metadata": {},
   "source": [
    "### Linear Regression\n",
    "\n",
    "The goal here is to model the number of mosquitos caught compared to the other columns. So, the dependent variable is 'Mosquito number.' The approach here is to conduct a multiple linear regression since we have many independent variables."
   ]
  },
  {
   "cell_type": "code",
   "execution_count": 562,
   "id": "02049d93",
   "metadata": {},
   "outputs": [
    {
     "data": {
      "text/html": [
       "<div>\n",
       "<style scoped>\n",
       "    .dataframe tbody tr th:only-of-type {\n",
       "        vertical-align: middle;\n",
       "    }\n",
       "\n",
       "    .dataframe tbody tr th {\n",
       "        vertical-align: top;\n",
       "    }\n",
       "\n",
       "    .dataframe thead th {\n",
       "        text-align: right;\n",
       "    }\n",
       "</style>\n",
       "<table border=\"1\" class=\"dataframe\">\n",
       "  <thead>\n",
       "    <tr style=\"text-align: right;\">\n",
       "      <th></th>\n",
       "      <th>Year</th>\n",
       "      <th>Week</th>\n",
       "      <th>Address Block</th>\n",
       "      <th>Trap</th>\n",
       "      <th>Trap type</th>\n",
       "      <th>Date</th>\n",
       "      <th>Mosquito number</th>\n",
       "      <th>WNV Present</th>\n",
       "      <th>Species</th>\n",
       "      <th>Lat</th>\n",
       "      <th>Lon</th>\n",
       "      <th>Month</th>\n",
       "    </tr>\n",
       "  </thead>\n",
       "  <tbody>\n",
       "    <tr>\n",
       "      <th>0</th>\n",
       "      <td>2019</td>\n",
       "      <td>39</td>\n",
       "      <td>100XX W OHARE AIRPORT</td>\n",
       "      <td>T910</td>\n",
       "      <td>GRAVID</td>\n",
       "      <td>2019-09-26 00:09:00</td>\n",
       "      <td>2</td>\n",
       "      <td>0</td>\n",
       "      <td>CULEX RESTUANS</td>\n",
       "      <td>41.977738</td>\n",
       "      <td>-87.880969</td>\n",
       "      <td>9</td>\n",
       "    </tr>\n",
       "    <tr>\n",
       "      <th>1</th>\n",
       "      <td>2019</td>\n",
       "      <td>39</td>\n",
       "      <td>52XX S KOLMAR AVE</td>\n",
       "      <td>T114</td>\n",
       "      <td>GRAVID</td>\n",
       "      <td>2019-09-26 00:09:00</td>\n",
       "      <td>1</td>\n",
       "      <td>0</td>\n",
       "      <td>CULEX RESTUANS</td>\n",
       "      <td>41.798211</td>\n",
       "      <td>-87.736925</td>\n",
       "      <td>9</td>\n",
       "    </tr>\n",
       "    <tr>\n",
       "      <th>2</th>\n",
       "      <td>2019</td>\n",
       "      <td>39</td>\n",
       "      <td>58XX N WESTERN AVE</td>\n",
       "      <td>T028</td>\n",
       "      <td>GRAVID</td>\n",
       "      <td>2019-09-26 00:09:00</td>\n",
       "      <td>2</td>\n",
       "      <td>0</td>\n",
       "      <td>CULEX RESTUANS</td>\n",
       "      <td>41.987245</td>\n",
       "      <td>-87.689417</td>\n",
       "      <td>9</td>\n",
       "    </tr>\n",
       "    <tr>\n",
       "      <th>3</th>\n",
       "      <td>2019</td>\n",
       "      <td>39</td>\n",
       "      <td>39XX N SPRINGFIELD AVE</td>\n",
       "      <td>T228</td>\n",
       "      <td>GRAVID</td>\n",
       "      <td>2019-09-26 00:09:00</td>\n",
       "      <td>1</td>\n",
       "      <td>0</td>\n",
       "      <td>CULEX RESTUANS</td>\n",
       "      <td>41.953664</td>\n",
       "      <td>-87.724987</td>\n",
       "      <td>9</td>\n",
       "    </tr>\n",
       "    <tr>\n",
       "      <th>4</th>\n",
       "      <td>2019</td>\n",
       "      <td>39</td>\n",
       "      <td>131XX S BRANDON AVE</td>\n",
       "      <td>T209</td>\n",
       "      <td>GRAVID</td>\n",
       "      <td>2019-09-26 00:09:00</td>\n",
       "      <td>9</td>\n",
       "      <td>0</td>\n",
       "      <td>CULEX RESTUANS</td>\n",
       "      <td>41.657069</td>\n",
       "      <td>-87.546049</td>\n",
       "      <td>9</td>\n",
       "    </tr>\n",
       "  </tbody>\n",
       "</table>\n",
       "</div>"
      ],
      "text/plain": [
       "   Year  Week           Address Block  Trap Trap type                 Date  \\\n",
       "0  2019    39   100XX W OHARE AIRPORT  T910    GRAVID  2019-09-26 00:09:00   \n",
       "1  2019    39       52XX S KOLMAR AVE  T114    GRAVID  2019-09-26 00:09:00   \n",
       "2  2019    39      58XX N WESTERN AVE  T028    GRAVID  2019-09-26 00:09:00   \n",
       "3  2019    39  39XX N SPRINGFIELD AVE  T228    GRAVID  2019-09-26 00:09:00   \n",
       "4  2019    39     131XX S BRANDON AVE  T209    GRAVID  2019-09-26 00:09:00   \n",
       "\n",
       "   Mosquito number  WNV Present         Species        Lat        Lon  Month  \n",
       "0                2            0  CULEX RESTUANS  41.977738 -87.880969      9  \n",
       "1                1            0  CULEX RESTUANS  41.798211 -87.736925      9  \n",
       "2                2            0  CULEX RESTUANS  41.987245 -87.689417      9  \n",
       "3                1            0  CULEX RESTUANS  41.953664 -87.724987      9  \n",
       "4                9            0  CULEX RESTUANS  41.657069 -87.546049      9  "
      ]
     },
     "execution_count": 562,
     "metadata": {},
     "output_type": "execute_result"
    }
   ],
   "source": [
    "# Getting a view of our columns. \n",
    "mdf.head()"
   ]
  },
  {
   "cell_type": "markdown",
   "id": "5ca3ddd2",
   "metadata": {},
   "source": [
    "Separating the dependent and independent variables. Since we have many independent variables, we are going to use the column names to subset the data."
   ]
  },
  {
   "cell_type": "code",
   "execution_count": 563,
   "id": "a579d2cb",
   "metadata": {},
   "outputs": [
    {
     "data": {
      "text/plain": [
       "Index(['Year', 'Week', 'Address Block', 'Trap', 'Trap type', 'Date',\n",
       "       'Mosquito number', 'WNV Present', 'Species', 'Lat', 'Lon', 'Month'],\n",
       "      dtype='object')"
      ]
     },
     "execution_count": 563,
     "metadata": {},
     "output_type": "execute_result"
    }
   ],
   "source": [
    "# column arrays\n",
    "mdf.columns"
   ]
  },
  {
   "cell_type": "code",
   "execution_count": 564,
   "id": "c422922a",
   "metadata": {},
   "outputs": [],
   "source": [
    "X = mdf[mdf.columns[:-6]]\n",
    "y = mdf['Mosquito number']"
   ]
  },
  {
   "cell_type": "code",
   "execution_count": 565,
   "id": "ecb63456",
   "metadata": {
    "scrolled": false
   },
   "outputs": [
    {
     "data": {
      "image/png": "[encoded data removed]",
      "text/plain": [
       "<Figure size 640x480 with 1 Axes>"
      ]
     },
     "metadata": {},
     "output_type": "display_data"
    },
    {
     "data": {
      "image/png": "[encoded data removed]",
      "text/plain": [
       "<Figure size 640x480 with 1 Axes>"
      ]
     },
     "metadata": {},
     "output_type": "display_data"
    },
    {
     "data": {
      "image/png": "[encoded data removed]",
      "text/plain": [
       "<Figure size 640x480 with 1 Axes>"
      ]
     },
     "metadata": {},
     "output_type": "display_data"
    },
    {
     "data": {
      "image/png": "[encoded data removed]",
      "text/plain": [
       "<Figure size 640x480 with 1 Axes>"
      ]
     },
     "metadata": {},
     "output_type": "display_data"
    },
    {
     "data": {
      "image/png": "[encoded data removed]",
      "text/plain": [
       "<Figure size 640x480 with 1 Axes>"
      ]
     },
     "metadata": {},
     "output_type": "display_data"
    },
    {
     "data": {
      "image/png": "[encoded data removed]",
      "text/plain": [
       "<Figure size 640x480 with 1 Axes>"
      ]
     },
     "metadata": {},
     "output_type": "display_data"
    }
   ],
   "source": [
    "for col in X.columns: \n",
    "    plt.figure()\n",
    "    plt.scatter(X[col], y)\n",
    "    plt.ylabel('Mosquito Number')\n",
    "    plt.xlabel(col)\n",
    "    plt.tight_layout()\n",
    "    plt.show();"
   ]
  },
  {
   "cell_type": "markdown",
   "id": "66f68726",
   "metadata": {},
   "source": [
    "After plotting the colunns, there does not seem to be a linear relationship present in the plots. As a result, a linear model cannot be fitted here. Moving forward with the logistic regression. "
   ]
  },
  {
   "cell_type": "markdown",
   "id": "7090c7bc",
   "metadata": {},
   "source": [
    "### Logistic Regression"
   ]
  },
  {
   "cell_type": "markdown",
   "id": "642814eb",
   "metadata": {},
   "source": [
    "As with linear regression, the first thing we need to do is separate the data into dependent and independent variables. The logistic will be used with multiple features seeing as though there are many independent variables. \n",
    "\n",
    "Before diving in, dropping the 'Mosquito number' column and then taking a look at the correlation between the variables would be best. "
   ]
  },
  {
   "cell_type": "code",
   "execution_count": 566,
   "id": "26fba65e",
   "metadata": {},
   "outputs": [
    {
     "data": {
      "text/html": [
       "<div>\n",
       "<style scoped>\n",
       "    .dataframe tbody tr th:only-of-type {\n",
       "        vertical-align: middle;\n",
       "    }\n",
       "\n",
       "    .dataframe tbody tr th {\n",
       "        vertical-align: top;\n",
       "    }\n",
       "\n",
       "    .dataframe thead th {\n",
       "        text-align: right;\n",
       "    }\n",
       "</style>\n",
       "<table border=\"1\" class=\"dataframe\">\n",
       "  <thead>\n",
       "    <tr style=\"text-align: right;\">\n",
       "      <th></th>\n",
       "      <th>Year</th>\n",
       "      <th>Week</th>\n",
       "      <th>Address Block</th>\n",
       "      <th>Trap</th>\n",
       "      <th>Trap type</th>\n",
       "      <th>Date</th>\n",
       "      <th>Mosquito number</th>\n",
       "      <th>WNV Present</th>\n",
       "      <th>Species</th>\n",
       "      <th>Lat</th>\n",
       "      <th>Lon</th>\n",
       "      <th>Month</th>\n",
       "    </tr>\n",
       "  </thead>\n",
       "  <tbody>\n",
       "    <tr>\n",
       "      <th>0</th>\n",
       "      <td>2019</td>\n",
       "      <td>39</td>\n",
       "      <td>100XX W OHARE AIRPORT</td>\n",
       "      <td>T910</td>\n",
       "      <td>GRAVID</td>\n",
       "      <td>2019-09-26 00:09:00</td>\n",
       "      <td>2</td>\n",
       "      <td>0</td>\n",
       "      <td>CULEX RESTUANS</td>\n",
       "      <td>41.977738</td>\n",
       "      <td>-87.880969</td>\n",
       "      <td>9</td>\n",
       "    </tr>\n",
       "    <tr>\n",
       "      <th>1</th>\n",
       "      <td>2019</td>\n",
       "      <td>39</td>\n",
       "      <td>52XX S KOLMAR AVE</td>\n",
       "      <td>T114</td>\n",
       "      <td>GRAVID</td>\n",
       "      <td>2019-09-26 00:09:00</td>\n",
       "      <td>1</td>\n",
       "      <td>0</td>\n",
       "      <td>CULEX RESTUANS</td>\n",
       "      <td>41.798211</td>\n",
       "      <td>-87.736925</td>\n",
       "      <td>9</td>\n",
       "    </tr>\n",
       "    <tr>\n",
       "      <th>2</th>\n",
       "      <td>2019</td>\n",
       "      <td>39</td>\n",
       "      <td>58XX N WESTERN AVE</td>\n",
       "      <td>T028</td>\n",
       "      <td>GRAVID</td>\n",
       "      <td>2019-09-26 00:09:00</td>\n",
       "      <td>2</td>\n",
       "      <td>0</td>\n",
       "      <td>CULEX RESTUANS</td>\n",
       "      <td>41.987245</td>\n",
       "      <td>-87.689417</td>\n",
       "      <td>9</td>\n",
       "    </tr>\n",
       "    <tr>\n",
       "      <th>3</th>\n",
       "      <td>2019</td>\n",
       "      <td>39</td>\n",
       "      <td>39XX N SPRINGFIELD AVE</td>\n",
       "      <td>T228</td>\n",
       "      <td>GRAVID</td>\n",
       "      <td>2019-09-26 00:09:00</td>\n",
       "      <td>1</td>\n",
       "      <td>0</td>\n",
       "      <td>CULEX RESTUANS</td>\n",
       "      <td>41.953664</td>\n",
       "      <td>-87.724987</td>\n",
       "      <td>9</td>\n",
       "    </tr>\n",
       "    <tr>\n",
       "      <th>4</th>\n",
       "      <td>2019</td>\n",
       "      <td>39</td>\n",
       "      <td>131XX S BRANDON AVE</td>\n",
       "      <td>T209</td>\n",
       "      <td>GRAVID</td>\n",
       "      <td>2019-09-26 00:09:00</td>\n",
       "      <td>9</td>\n",
       "      <td>0</td>\n",
       "      <td>CULEX RESTUANS</td>\n",
       "      <td>41.657069</td>\n",
       "      <td>-87.546049</td>\n",
       "      <td>9</td>\n",
       "    </tr>\n",
       "  </tbody>\n",
       "</table>\n",
       "</div>"
      ],
      "text/plain": [
       "   Year  Week           Address Block  Trap Trap type                 Date  \\\n",
       "0  2019    39   100XX W OHARE AIRPORT  T910    GRAVID  2019-09-26 00:09:00   \n",
       "1  2019    39       52XX S KOLMAR AVE  T114    GRAVID  2019-09-26 00:09:00   \n",
       "2  2019    39      58XX N WESTERN AVE  T028    GRAVID  2019-09-26 00:09:00   \n",
       "3  2019    39  39XX N SPRINGFIELD AVE  T228    GRAVID  2019-09-26 00:09:00   \n",
       "4  2019    39     131XX S BRANDON AVE  T209    GRAVID  2019-09-26 00:09:00   \n",
       "\n",
       "   Mosquito number  WNV Present         Species        Lat        Lon  Month  \n",
       "0                2            0  CULEX RESTUANS  41.977738 -87.880969      9  \n",
       "1                1            0  CULEX RESTUANS  41.798211 -87.736925      9  \n",
       "2                2            0  CULEX RESTUANS  41.987245 -87.689417      9  \n",
       "3                1            0  CULEX RESTUANS  41.953664 -87.724987      9  \n",
       "4                9            0  CULEX RESTUANS  41.657069 -87.546049      9  "
      ]
     },
     "execution_count": 566,
     "metadata": {},
     "output_type": "execute_result"
    }
   ],
   "source": [
    "mdf.head()"
   ]
  },
  {
   "cell_type": "markdown",
   "id": "47371cc2",
   "metadata": {},
   "source": [
    "'Species' was converted into a binary column. After the 'Mosquito number' was dropped, 'Species' shows NaN values. Going to fill the 'Species' column with 0. After which a correlation will be ran. "
   ]
  },
  {
   "cell_type": "code",
   "execution_count": 567,
   "id": "b760a37c",
   "metadata": {},
   "outputs": [],
   "source": [
    "mdf['Species'] = mdf['Species'].fillna(0)"
   ]
  },
  {
   "cell_type": "code",
   "execution_count": 568,
   "id": "6e109396",
   "metadata": {},
   "outputs": [
    {
     "data": {
      "text/html": [
       "<div>\n",
       "<style scoped>\n",
       "    .dataframe tbody tr th:only-of-type {\n",
       "        vertical-align: middle;\n",
       "    }\n",
       "\n",
       "    .dataframe tbody tr th {\n",
       "        vertical-align: top;\n",
       "    }\n",
       "\n",
       "    .dataframe thead th {\n",
       "        text-align: right;\n",
       "    }\n",
       "</style>\n",
       "<table border=\"1\" class=\"dataframe\">\n",
       "  <thead>\n",
       "    <tr style=\"text-align: right;\">\n",
       "      <th></th>\n",
       "      <th>Year</th>\n",
       "      <th>Week</th>\n",
       "      <th>Address Block</th>\n",
       "      <th>Trap</th>\n",
       "      <th>Trap type</th>\n",
       "      <th>Date</th>\n",
       "      <th>Mosquito number</th>\n",
       "      <th>WNV Present</th>\n",
       "      <th>Species</th>\n",
       "      <th>Lat</th>\n",
       "      <th>Lon</th>\n",
       "      <th>Month</th>\n",
       "    </tr>\n",
       "  </thead>\n",
       "  <tbody>\n",
       "    <tr>\n",
       "      <th>0</th>\n",
       "      <td>2019</td>\n",
       "      <td>39</td>\n",
       "      <td>100XX W OHARE AIRPORT</td>\n",
       "      <td>T910</td>\n",
       "      <td>GRAVID</td>\n",
       "      <td>2019-09-26 00:09:00</td>\n",
       "      <td>2</td>\n",
       "      <td>0</td>\n",
       "      <td>CULEX RESTUANS</td>\n",
       "      <td>41.977738</td>\n",
       "      <td>-87.880969</td>\n",
       "      <td>9</td>\n",
       "    </tr>\n",
       "    <tr>\n",
       "      <th>1</th>\n",
       "      <td>2019</td>\n",
       "      <td>39</td>\n",
       "      <td>52XX S KOLMAR AVE</td>\n",
       "      <td>T114</td>\n",
       "      <td>GRAVID</td>\n",
       "      <td>2019-09-26 00:09:00</td>\n",
       "      <td>1</td>\n",
       "      <td>0</td>\n",
       "      <td>CULEX RESTUANS</td>\n",
       "      <td>41.798211</td>\n",
       "      <td>-87.736925</td>\n",
       "      <td>9</td>\n",
       "    </tr>\n",
       "    <tr>\n",
       "      <th>2</th>\n",
       "      <td>2019</td>\n",
       "      <td>39</td>\n",
       "      <td>58XX N WESTERN AVE</td>\n",
       "      <td>T028</td>\n",
       "      <td>GRAVID</td>\n",
       "      <td>2019-09-26 00:09:00</td>\n",
       "      <td>2</td>\n",
       "      <td>0</td>\n",
       "      <td>CULEX RESTUANS</td>\n",
       "      <td>41.987245</td>\n",
       "      <td>-87.689417</td>\n",
       "      <td>9</td>\n",
       "    </tr>\n",
       "    <tr>\n",
       "      <th>3</th>\n",
       "      <td>2019</td>\n",
       "      <td>39</td>\n",
       "      <td>39XX N SPRINGFIELD AVE</td>\n",
       "      <td>T228</td>\n",
       "      <td>GRAVID</td>\n",
       "      <td>2019-09-26 00:09:00</td>\n",
       "      <td>1</td>\n",
       "      <td>0</td>\n",
       "      <td>CULEX RESTUANS</td>\n",
       "      <td>41.953664</td>\n",
       "      <td>-87.724987</td>\n",
       "      <td>9</td>\n",
       "    </tr>\n",
       "    <tr>\n",
       "      <th>4</th>\n",
       "      <td>2019</td>\n",
       "      <td>39</td>\n",
       "      <td>131XX S BRANDON AVE</td>\n",
       "      <td>T209</td>\n",
       "      <td>GRAVID</td>\n",
       "      <td>2019-09-26 00:09:00</td>\n",
       "      <td>9</td>\n",
       "      <td>0</td>\n",
       "      <td>CULEX RESTUANS</td>\n",
       "      <td>41.657069</td>\n",
       "      <td>-87.546049</td>\n",
       "      <td>9</td>\n",
       "    </tr>\n",
       "  </tbody>\n",
       "</table>\n",
       "</div>"
      ],
      "text/plain": [
       "   Year  Week           Address Block  Trap Trap type                 Date  \\\n",
       "0  2019    39   100XX W OHARE AIRPORT  T910    GRAVID  2019-09-26 00:09:00   \n",
       "1  2019    39       52XX S KOLMAR AVE  T114    GRAVID  2019-09-26 00:09:00   \n",
       "2  2019    39      58XX N WESTERN AVE  T028    GRAVID  2019-09-26 00:09:00   \n",
       "3  2019    39  39XX N SPRINGFIELD AVE  T228    GRAVID  2019-09-26 00:09:00   \n",
       "4  2019    39     131XX S BRANDON AVE  T209    GRAVID  2019-09-26 00:09:00   \n",
       "\n",
       "   Mosquito number  WNV Present         Species        Lat        Lon  Month  \n",
       "0                2            0  CULEX RESTUANS  41.977738 -87.880969      9  \n",
       "1                1            0  CULEX RESTUANS  41.798211 -87.736925      9  \n",
       "2                2            0  CULEX RESTUANS  41.987245 -87.689417      9  \n",
       "3                1            0  CULEX RESTUANS  41.953664 -87.724987      9  \n",
       "4                9            0  CULEX RESTUANS  41.657069 -87.546049      9  "
      ]
     },
     "execution_count": 568,
     "metadata": {},
     "output_type": "execute_result"
    }
   ],
   "source": [
    "mdf.head()"
   ]
  },
  {
   "cell_type": "code",
   "execution_count": 569,
   "id": "e2f97d23",
   "metadata": {},
   "outputs": [
    {
     "name": "stderr",
     "output_type": "stream",
     "text": [
      "/var/folders/26/3jnnrvjs3534y_dh9pff888c0000gn/T/ipykernel_63025/3826055979.py:1: FutureWarning: The default value of numeric_only in DataFrame.corr is deprecated. In a future version, it will default to False. Select only valid columns or specify the value of numeric_only to silence this warning.\n",
      "  mdf.corr().style.background_gradient()\n"
     ]
    },
    {
     "data": {
      "text/html": [
       "<style type=\"text/css\">\n",
       "#T_b7232_row0_col0, #T_b7232_row1_col1, #T_b7232_row2_col2, #T_b7232_row3_col3, #T_b7232_row4_col4, #T_b7232_row5_col5, #T_b7232_row6_col6 {\n",
       "  background-color: #023858;\n",
       "  color: #f1f1f1;\n",
       "}\n",
       "#T_b7232_row0_col1 {\n",
       "  background-color: #fef6fa;\n",
       "  color: #000000;\n",
       "}\n",
       "#T_b7232_row0_col2 {\n",
       "  background-color: #d2d2e7;\n",
       "  color: #000000;\n",
       "}\n",
       "#T_b7232_row0_col3 {\n",
       "  background-color: #c9cee4;\n",
       "  color: #000000;\n",
       "}\n",
       "#T_b7232_row0_col4, #T_b7232_row2_col4 {\n",
       "  background-color: #7bacd1;\n",
       "  color: #f1f1f1;\n",
       "}\n",
       "#T_b7232_row0_col5 {\n",
       "  background-color: #a7bddb;\n",
       "  color: #000000;\n",
       "}\n",
       "#T_b7232_row0_col6, #T_b7232_row2_col1, #T_b7232_row4_col5, #T_b7232_row5_col2, #T_b7232_row5_col3, #T_b7232_row5_col4, #T_b7232_row6_col0 {\n",
       "  background-color: #fff7fb;\n",
       "  color: #000000;\n",
       "}\n",
       "#T_b7232_row1_col0 {\n",
       "  background-color: #f4eef6;\n",
       "  color: #000000;\n",
       "}\n",
       "#T_b7232_row1_col2, #T_b7232_row5_col6 {\n",
       "  background-color: #f0eaf4;\n",
       "  color: #000000;\n",
       "}\n",
       "#T_b7232_row1_col3 {\n",
       "  background-color: #c2cbe2;\n",
       "  color: #000000;\n",
       "}\n",
       "#T_b7232_row1_col4 {\n",
       "  background-color: #91b5d6;\n",
       "  color: #000000;\n",
       "}\n",
       "#T_b7232_row1_col5 {\n",
       "  background-color: #8fb4d6;\n",
       "  color: #000000;\n",
       "}\n",
       "#T_b7232_row1_col6 {\n",
       "  background-color: #03446a;\n",
       "  color: #f1f1f1;\n",
       "}\n",
       "#T_b7232_row2_col0 {\n",
       "  background-color: #d9d8ea;\n",
       "  color: #000000;\n",
       "}\n",
       "#T_b7232_row2_col3, #T_b7232_row3_col4 {\n",
       "  background-color: #78abd0;\n",
       "  color: #f1f1f1;\n",
       "}\n",
       "#T_b7232_row2_col5 {\n",
       "  background-color: #b1c2de;\n",
       "  color: #000000;\n",
       "}\n",
       "#T_b7232_row2_col6 {\n",
       "  background-color: #f7f0f7;\n",
       "  color: #000000;\n",
       "}\n",
       "#T_b7232_row3_col0 {\n",
       "  background-color: #d4d4e8;\n",
       "  color: #000000;\n",
       "}\n",
       "#T_b7232_row3_col1 {\n",
       "  background-color: #dbdaeb;\n",
       "  color: #000000;\n",
       "}\n",
       "#T_b7232_row3_col2 {\n",
       "  background-color: #79abd0;\n",
       "  color: #f1f1f1;\n",
       "}\n",
       "#T_b7232_row3_col5 {\n",
       "  background-color: #b4c4df;\n",
       "  color: #000000;\n",
       "}\n",
       "#T_b7232_row3_col6, #T_b7232_row4_col3 {\n",
       "  background-color: #d3d4e7;\n",
       "  color: #000000;\n",
       "}\n",
       "#T_b7232_row4_col0 {\n",
       "  background-color: #e0deed;\n",
       "  color: #000000;\n",
       "}\n",
       "#T_b7232_row4_col1 {\n",
       "  background-color: #fbf3f9;\n",
       "  color: #000000;\n",
       "}\n",
       "#T_b7232_row4_col2 {\n",
       "  background-color: #d8d7e9;\n",
       "  color: #000000;\n",
       "}\n",
       "#T_b7232_row4_col6 {\n",
       "  background-color: #f3edf5;\n",
       "  color: #000000;\n",
       "}\n",
       "#T_b7232_row5_col0 {\n",
       "  background-color: #fef6fb;\n",
       "  color: #000000;\n",
       "}\n",
       "#T_b7232_row5_col1 {\n",
       "  background-color: #faf2f8;\n",
       "  color: #000000;\n",
       "}\n",
       "#T_b7232_row6_col1 {\n",
       "  background-color: #03456c;\n",
       "  color: #f1f1f1;\n",
       "}\n",
       "#T_b7232_row6_col2 {\n",
       "  background-color: #f1ebf4;\n",
       "  color: #000000;\n",
       "}\n",
       "#T_b7232_row6_col3 {\n",
       "  background-color: #c6cce3;\n",
       "  color: #000000;\n",
       "}\n",
       "#T_b7232_row6_col4 {\n",
       "  background-color: #94b6d7;\n",
       "  color: #000000;\n",
       "}\n",
       "#T_b7232_row6_col5 {\n",
       "  background-color: #8eb3d5;\n",
       "  color: #000000;\n",
       "}\n",
       "</style>\n",
       "<table id=\"T_b7232\">\n",
       "  <thead>\n",
       "    <tr>\n",
       "      <th class=\"blank level0\" >&nbsp;</th>\n",
       "      <th id=\"T_b7232_level0_col0\" class=\"col_heading level0 col0\" >Year</th>\n",
       "      <th id=\"T_b7232_level0_col1\" class=\"col_heading level0 col1\" >Week</th>\n",
       "      <th id=\"T_b7232_level0_col2\" class=\"col_heading level0 col2\" >Mosquito number</th>\n",
       "      <th id=\"T_b7232_level0_col3\" class=\"col_heading level0 col3\" >WNV Present</th>\n",
       "      <th id=\"T_b7232_level0_col4\" class=\"col_heading level0 col4\" >Lat</th>\n",
       "      <th id=\"T_b7232_level0_col5\" class=\"col_heading level0 col5\" >Lon</th>\n",
       "      <th id=\"T_b7232_level0_col6\" class=\"col_heading level0 col6\" >Month</th>\n",
       "    </tr>\n",
       "  </thead>\n",
       "  <tbody>\n",
       "    <tr>\n",
       "      <th id=\"T_b7232_level0_row0\" class=\"row_heading level0 row0\" >Year</th>\n",
       "      <td id=\"T_b7232_row0_col0\" class=\"data row0 col0\" >1.000000</td>\n",
       "      <td id=\"T_b7232_row0_col1\" class=\"data row0 col1\" >-0.023283</td>\n",
       "      <td id=\"T_b7232_row0_col2\" class=\"data row0 col2\" >0.129326</td>\n",
       "      <td id=\"T_b7232_row0_col3\" class=\"data row0 col3\" >0.153881</td>\n",
       "      <td id=\"T_b7232_row0_col4\" class=\"data row0 col4\" >0.093983</td>\n",
       "      <td id=\"T_b7232_row0_col5\" class=\"data row0 col5\" >-0.094628</td>\n",
       "      <td id=\"T_b7232_row0_col6\" class=\"data row0 col6\" >-0.100847</td>\n",
       "    </tr>\n",
       "    <tr>\n",
       "      <th id=\"T_b7232_level0_row1\" class=\"row_heading level0 row1\" >Week</th>\n",
       "      <td id=\"T_b7232_row1_col0\" class=\"data row1 col0\" >-0.023283</td>\n",
       "      <td id=\"T_b7232_row1_col1\" class=\"data row1 col1\" >1.000000</td>\n",
       "      <td id=\"T_b7232_row1_col2\" class=\"data row1 col2\" >-0.033900</td>\n",
       "      <td id=\"T_b7232_row1_col3\" class=\"data row1 col3\" >0.174265</td>\n",
       "      <td id=\"T_b7232_row1_col4\" class=\"data row1 col4\" >-0.002876</td>\n",
       "      <td id=\"T_b7232_row1_col5\" class=\"data row1 col5\" >0.002967</td>\n",
       "      <td id=\"T_b7232_row1_col6\" class=\"data row1 col6\" >0.948940</td>\n",
       "    </tr>\n",
       "    <tr>\n",
       "      <th id=\"T_b7232_level0_row2\" class=\"row_heading level0 row2\" >Mosquito number</th>\n",
       "      <td id=\"T_b7232_row2_col0\" class=\"data row2 col0\" >0.129326</td>\n",
       "      <td id=\"T_b7232_row2_col1\" class=\"data row2 col1\" >-0.033900</td>\n",
       "      <td id=\"T_b7232_row2_col2\" class=\"data row2 col2\" >1.000000</td>\n",
       "      <td id=\"T_b7232_row2_col3\" class=\"data row2 col3\" >0.408034</td>\n",
       "      <td id=\"T_b7232_row2_col4\" class=\"data row2 col4\" >0.096820</td>\n",
       "      <td id=\"T_b7232_row2_col5\" class=\"data row2 col5\" >-0.151421</td>\n",
       "      <td id=\"T_b7232_row2_col6\" class=\"data row2 col6\" >-0.040426</td>\n",
       "    </tr>\n",
       "    <tr>\n",
       "      <th id=\"T_b7232_level0_row3\" class=\"row_heading level0 row3\" >WNV Present</th>\n",
       "      <td id=\"T_b7232_row3_col0\" class=\"data row3 col0\" >0.153881</td>\n",
       "      <td id=\"T_b7232_row3_col1\" class=\"data row3 col1\" >0.174265</td>\n",
       "      <td id=\"T_b7232_row3_col2\" class=\"data row3 col2\" >0.408034</td>\n",
       "      <td id=\"T_b7232_row3_col3\" class=\"data row3 col3\" >1.000000</td>\n",
       "      <td id=\"T_b7232_row3_col4\" class=\"data row3 col4\" >0.110175</td>\n",
       "      <td id=\"T_b7232_row3_col5\" class=\"data row3 col5\" >-0.163967</td>\n",
       "      <td id=\"T_b7232_row3_col6\" class=\"data row3 col6\" >0.161334</td>\n",
       "    </tr>\n",
       "    <tr>\n",
       "      <th id=\"T_b7232_level0_row4\" class=\"row_heading level0 row4\" >Lat</th>\n",
       "      <td id=\"T_b7232_row4_col0\" class=\"data row4 col0\" >0.093983</td>\n",
       "      <td id=\"T_b7232_row4_col1\" class=\"data row4 col1\" >-0.002876</td>\n",
       "      <td id=\"T_b7232_row4_col2\" class=\"data row4 col2\" >0.096820</td>\n",
       "      <td id=\"T_b7232_row4_col3\" class=\"data row4 col3\" >0.110175</td>\n",
       "      <td id=\"T_b7232_row4_col4\" class=\"data row4 col4\" >1.000000</td>\n",
       "      <td id=\"T_b7232_row4_col5\" class=\"data row4 col5\" >-0.749416</td>\n",
       "      <td id=\"T_b7232_row4_col6\" class=\"data row4 col6\" >-0.011544</td>\n",
       "    </tr>\n",
       "    <tr>\n",
       "      <th id=\"T_b7232_level0_row5\" class=\"row_heading level0 row5\" >Lon</th>\n",
       "      <td id=\"T_b7232_row5_col0\" class=\"data row5 col0\" >-0.094628</td>\n",
       "      <td id=\"T_b7232_row5_col1\" class=\"data row5 col1\" >0.002967</td>\n",
       "      <td id=\"T_b7232_row5_col2\" class=\"data row5 col2\" >-0.151421</td>\n",
       "      <td id=\"T_b7232_row5_col3\" class=\"data row5 col3\" >-0.163967</td>\n",
       "      <td id=\"T_b7232_row5_col4\" class=\"data row5 col4\" >-0.749416</td>\n",
       "      <td id=\"T_b7232_row5_col5\" class=\"data row5 col5\" >1.000000</td>\n",
       "      <td id=\"T_b7232_row5_col6\" class=\"data row5 col6\" >0.010695</td>\n",
       "    </tr>\n",
       "    <tr>\n",
       "      <th id=\"T_b7232_level0_row6\" class=\"row_heading level0 row6\" >Month</th>\n",
       "      <td id=\"T_b7232_row6_col0\" class=\"data row6 col0\" >-0.100847</td>\n",
       "      <td id=\"T_b7232_row6_col1\" class=\"data row6 col1\" >0.948940</td>\n",
       "      <td id=\"T_b7232_row6_col2\" class=\"data row6 col2\" >-0.040426</td>\n",
       "      <td id=\"T_b7232_row6_col3\" class=\"data row6 col3\" >0.161334</td>\n",
       "      <td id=\"T_b7232_row6_col4\" class=\"data row6 col4\" >-0.011544</td>\n",
       "      <td id=\"T_b7232_row6_col5\" class=\"data row6 col5\" >0.010695</td>\n",
       "      <td id=\"T_b7232_row6_col6\" class=\"data row6 col6\" >1.000000</td>\n",
       "    </tr>\n",
       "  </tbody>\n",
       "</table>\n"
      ],
      "text/plain": [
       "<pandas.io.formats.style.Styler at 0x7fb48d0033d0>"
      ]
     },
     "execution_count": 569,
     "metadata": {},
     "output_type": "execute_result"
    }
   ],
   "source": [
    "mdf.corr().style.background_gradient()"
   ]
  },
  {
   "cell_type": "markdown",
   "id": "8b6555f6",
   "metadata": {},
   "source": [
    "'Species' still has nan values. Will move forward with using other independent variables. There also seems to be mild linear relation between West Nile Virus presence and Year, Week, Lat, and Month."
   ]
  },
  {
   "cell_type": "code",
   "execution_count": 570,
   "id": "63b4ef5d",
   "metadata": {},
   "outputs": [],
   "source": [
    "# Defining the X and y\n",
    "X = mdf[['Year','Week', 'Month', 'Lat']] #independent variable\n",
    "y = mdf['WNV Present'] #dependent variable\n",
    "\n",
    "X_withconstant = sm.add_constant(X)"
   ]
  },
  {
   "cell_type": "code",
   "execution_count": 571,
   "id": "5147dc6e",
   "metadata": {},
   "outputs": [
    {
     "name": "stdout",
     "output_type": "stream",
     "text": [
      "Optimization terminated successfully.\n",
      "         Current function value: 0.487351\n",
      "         Iterations 7\n"
     ]
    },
    {
     "data": {
      "text/html": [
       "<table class=\"simpletable\">\n",
       "<caption>Logit Regression Results</caption>\n",
       "<tr>\n",
       "  <th>Dep. Variable:</th>      <td>WNV Present</td>   <th>  No. Observations:  </th>   <td> 18495</td>  \n",
       "</tr>\n",
       "<tr>\n",
       "  <th>Model:</th>                 <td>Logit</td>      <th>  Df Residuals:      </th>   <td> 18490</td>  \n",
       "</tr>\n",
       "<tr>\n",
       "  <th>Method:</th>                 <td>MLE</td>       <th>  Df Model:          </th>   <td>     4</td>  \n",
       "</tr>\n",
       "<tr>\n",
       "  <th>Date:</th>            <td>Mon, 20 Feb 2023</td> <th>  Pseudo R-squ.:     </th>   <td>0.06590</td> \n",
       "</tr>\n",
       "<tr>\n",
       "  <th>Time:</th>                <td>21:28:00</td>     <th>  Log-Likelihood:    </th>  <td> -9013.5</td> \n",
       "</tr>\n",
       "<tr>\n",
       "  <th>converged:</th>             <td>True</td>       <th>  LL-Null:           </th>  <td> -9649.5</td> \n",
       "</tr>\n",
       "<tr>\n",
       "  <th>Covariance Type:</th>     <td>nonrobust</td>    <th>  LLR p-value:       </th> <td>4.210e-274</td>\n",
       "</tr>\n",
       "</table>\n",
       "<table class=\"simpletable\">\n",
       "<tr>\n",
       "    <td></td>       <th>coef</th>     <th>std err</th>      <th>z</th>      <th>P>|z|</th>  <th>[0.025</th>    <th>0.975]</th>  \n",
       "</tr>\n",
       "<tr>\n",
       "  <th>const</th> <td> -324.8358</td> <td>   12.627</td> <td>  -25.726</td> <td> 0.000</td> <td> -349.584</td> <td> -300.088</td>\n",
       "</tr>\n",
       "<tr>\n",
       "  <th>Year</th>  <td>    0.1115</td> <td>    0.005</td> <td>   20.907</td> <td> 0.000</td> <td>    0.101</td> <td>    0.122</td>\n",
       "</tr>\n",
       "<tr>\n",
       "  <th>Week</th>  <td>    0.0621</td> <td>    0.014</td> <td>    4.370</td> <td> 0.000</td> <td>    0.034</td> <td>    0.090</td>\n",
       "</tr>\n",
       "<tr>\n",
       "  <th>Month</th> <td>    0.2166</td> <td>    0.062</td> <td>    3.500</td> <td> 0.000</td> <td>    0.095</td> <td>    0.338</td>\n",
       "</tr>\n",
       "<tr>\n",
       "  <th>Lat</th>   <td>    2.2804</td> <td>    0.167</td> <td>   13.642</td> <td> 0.000</td> <td>    1.953</td> <td>    2.608</td>\n",
       "</tr>\n",
       "</table>"
      ],
      "text/plain": [
       "<class 'statsmodels.iolib.summary.Summary'>\n",
       "\"\"\"\n",
       "                           Logit Regression Results                           \n",
       "==============================================================================\n",
       "Dep. Variable:            WNV Present   No. Observations:                18495\n",
       "Model:                          Logit   Df Residuals:                    18490\n",
       "Method:                           MLE   Df Model:                            4\n",
       "Date:                Mon, 20 Feb 2023   Pseudo R-squ.:                 0.06590\n",
       "Time:                        21:28:00   Log-Likelihood:                -9013.5\n",
       "converged:                       True   LL-Null:                       -9649.5\n",
       "Covariance Type:            nonrobust   LLR p-value:                4.210e-274\n",
       "==============================================================================\n",
       "                 coef    std err          z      P>|z|      [0.025      0.975]\n",
       "------------------------------------------------------------------------------\n",
       "const       -324.8358     12.627    -25.726      0.000    -349.584    -300.088\n",
       "Year           0.1115      0.005     20.907      0.000       0.101       0.122\n",
       "Week           0.0621      0.014      4.370      0.000       0.034       0.090\n",
       "Month          0.2166      0.062      3.500      0.000       0.095       0.338\n",
       "Lat            2.2804      0.167     13.642      0.000       1.953       2.608\n",
       "==============================================================================\n",
       "\"\"\""
      ]
     },
     "execution_count": 571,
     "metadata": {},
     "output_type": "execute_result"
    }
   ],
   "source": [
    "# Instantiating the model\n",
    "mylogreg_mdf = sm.Logit(y,X_withconstant)\n",
    "\n",
    "# Fitting model\n",
    "mylogreg_mdf_results = mylogreg_mdf.fit()\n",
    "\n",
    "# Looking at summary\n",
    "mylogreg_mdf_results.summary()"
   ]
  },
  {
   "cell_type": "markdown",
   "id": "c9677c18",
   "metadata": {},
   "source": [
    "Since the p-values are low (lower than 0.05) than it means that the associated variables are relevant in predicting the independent variable, 'West Nile Virus Presence in this case.\n",
    "\n",
    "Based on the p-values in the summary table above, we can see that Year, Week, Month, and Lat are all is relevant in predicting West Nile Virus Presence. \n",
    "\n",
    "Next step, looking at the individual coefficient values to see how they influence West Nile Virus Presence. "
   ]
  },
  {
   "cell_type": "code",
   "execution_count": 572,
   "id": "d6cd21de",
   "metadata": {},
   "outputs": [
    {
     "data": {
      "text/plain": [
       "const   -324.835817\n",
       "Year       0.111482\n",
       "Week       0.062092\n",
       "Month      0.216593\n",
       "Lat        2.280420\n",
       "dtype: float64"
      ]
     },
     "execution_count": 572,
     "metadata": {},
     "output_type": "execute_result"
    }
   ],
   "source": [
    "# looking at coefficient values\n",
    "mylogreg_mdf_results.params"
   ]
  },
  {
   "cell_type": "markdown",
   "id": "6c8283ee",
   "metadata": {},
   "source": [
    "Storing parameters in variables for intepretation. "
   ]
  },
  {
   "cell_type": "code",
   "execution_count": 573,
   "id": "3ea3ce06",
   "metadata": {},
   "outputs": [],
   "source": [
    "beta0 = mylogreg_mdf_results.params[0]"
   ]
  },
  {
   "cell_type": "code",
   "execution_count": 574,
   "id": "aabf3bdd",
   "metadata": {},
   "outputs": [],
   "source": [
    "beta1 = mylogreg_mdf_results.params[1]"
   ]
  },
  {
   "cell_type": "code",
   "execution_count": 575,
   "id": "a2c379d7",
   "metadata": {},
   "outputs": [],
   "source": [
    "beta2 = mylogreg_mdf_results.params[2]"
   ]
  },
  {
   "cell_type": "code",
   "execution_count": 576,
   "id": "191de2ff",
   "metadata": {},
   "outputs": [],
   "source": [
    "beta3 = mylogreg_mdf_results.params[3]"
   ]
  },
  {
   "cell_type": "markdown",
   "id": "1b53839f",
   "metadata": {},
   "source": [
    "Now, calculating an *odds ratio* by taking the exponential function of the coefficients.\n"
   ]
  },
  {
   "cell_type": "code",
   "execution_count": 577,
   "id": "18c5e0c6",
   "metadata": {},
   "outputs": [
    {
     "data": {
      "text/plain": [
       "8.425531046283133e-142"
      ]
     },
     "execution_count": 577,
     "metadata": {},
     "output_type": "execute_result"
    }
   ],
   "source": [
    "np.exp(beta0)"
   ]
  },
  {
   "cell_type": "code",
   "execution_count": 578,
   "id": "c3177309",
   "metadata": {},
   "outputs": [
    {
     "data": {
      "text/plain": [
       "1.1179331854854884"
      ]
     },
     "execution_count": 578,
     "metadata": {},
     "output_type": "execute_result"
    }
   ],
   "source": [
    "np.exp(beta1)"
   ]
  },
  {
   "cell_type": "markdown",
   "id": "b3648d06",
   "metadata": {},
   "source": [
    "This means that with one unit increase in 'Week', the odds of a person getting West Nile Virus increases by a factor of 1.12. Week is our independent variable. \n"
   ]
  },
  {
   "cell_type": "code",
   "execution_count": 579,
   "id": "11c70587",
   "metadata": {},
   "outputs": [
    {
     "data": {
      "text/plain": [
       "1.0640598250809556"
      ]
     },
     "execution_count": 579,
     "metadata": {},
     "output_type": "execute_result"
    }
   ],
   "source": [
    "np.exp(beta2)"
   ]
  },
  {
   "cell_type": "markdown",
   "id": "307001cc",
   "metadata": {},
   "source": [
    "This means that with one unit increase in 'Month', the odds of a person getting West Nile Virus increases by a factor of 1.06. Month is our independent variable. \n"
   ]
  },
  {
   "cell_type": "code",
   "execution_count": 580,
   "id": "b0fa0bff",
   "metadata": {},
   "outputs": [
    {
     "data": {
      "text/plain": [
       "1.2418388437993129"
      ]
     },
     "execution_count": 580,
     "metadata": {},
     "output_type": "execute_result"
    }
   ],
   "source": [
    "np.exp(beta3)"
   ]
  },
  {
   "cell_type": "markdown",
   "id": "e0695207",
   "metadata": {},
   "source": [
    "This means that with one unit increase in 'Lat', the odds of a person getting West Nile Virus increases by a factor of 1.24. Lat is our independent variable. \n"
   ]
  },
  {
   "cell_type": "markdown",
   "id": "ea6fe49b",
   "metadata": {},
   "source": [
    "Overall, since our coefficients are positive, then the variable makes it more likely for West Nile Virus Presence. "
   ]
  },
  {
   "cell_type": "code",
   "execution_count": 581,
   "id": "515797dd",
   "metadata": {},
   "outputs": [],
   "source": [
    "# getting probabiistic and binary predictions for the model for evaluation\n",
    "model_predictions_prob = mylogreg_mdf_results.predict(X_withconstant)\n",
    "model_predictions_binary = np.where(model_predictions_prob>0.5,1,0)"
   ]
  },
  {
   "cell_type": "code",
   "execution_count": 582,
   "id": "e6d58d6a",
   "metadata": {},
   "outputs": [
    {
     "data": {
      "text/plain": [
       "14348"
      ]
     },
     "execution_count": 582,
     "metadata": {},
     "output_type": "execute_result"
    }
   ],
   "source": [
    "# How many were predicted right \n",
    "(model_predictions_binary == mdf['WNV Present']).sum()"
   ]
  },
  {
   "cell_type": "code",
   "execution_count": 583,
   "id": "793b5cb4",
   "metadata": {},
   "outputs": [
    {
     "data": {
      "text/plain": [
       "18495"
      ]
     },
     "execution_count": 583,
     "metadata": {},
     "output_type": "execute_result"
    }
   ],
   "source": [
    "# Number of Data Points\n",
    "len(mdf['WNV Present'])"
   ]
  },
  {
   "cell_type": "code",
   "execution_count": 584,
   "id": "83536d61",
   "metadata": {},
   "outputs": [
    {
     "name": "stdout",
     "output_type": "stream",
     "text": [
      "The WNV Presence accuracy is: 77.57772370911057 %\n"
     ]
    }
   ],
   "source": [
    "print(\"The WNV Presence accuracy is:\", (14348/18495)*100 , \"%\")"
   ]
  },
  {
   "cell_type": "markdown",
   "id": "35f9066b",
   "metadata": {},
   "source": [
    "Although, the accuracy is 77.5 %, the limitstions of this model assumes linearity between the predicted (dependent) variable and the predictor (independent) variables. It also fails to predict a continuous outcome."
   ]
  },
  {
   "cell_type": "markdown",
   "id": "e6c7479a",
   "metadata": {},
   "source": [
    "### Conclusion\n",
    "\n",
    "When looking at the average number of mosquitoes for each month the following trends arise:\n",
    "\n",
    "For **total number of mosquitos per month**, May(5) averaged 7, June(6) averaged 464.5, July(7) averaged 851.3, August(8) averaged 1145.3, September(9) averaged 576.8, and October(10) averaged 37.5. The following was noticed: \n",
    "\n",
    "- Summer months by far has the highest average number of mosquitos especially in July and August.\n",
    "- Both the beginning (May) and ending month (October) has the lowest average number of mosquitos. \n",
    "- It can be inferred that the watmer the weather the higher the average number of mosquitos. \n",
    "- 25th percentile is July.\n",
    "- 50th and 75 percentile is July.\n",
    "\n",
    "For **number of mosquitos(Mosquito number)**, May(5) averaged 2.76, June(6) averaged 10.3, July(7) averaged 11.6, August(8) averaged 12.1, September(9) averaged 8.4, and October(10) averaged 5.4. The following was noticed: \n",
    "\n",
    "- Summary months have the highest average per mosquitos caught. July and August have the highest.\n",
    "- Both the beginning (May) and ending month (October) has the lowest average number of mosquitos caught.\n",
    "- It can be inferred that the warmer the weather the higher the average number of mosquitos caught.\n",
    "\n",
    "There is a statistically significant difference between the different mosquito species when looking at the occurrence of West Nile Virus. In all cases, the null hypothesis is rejected unless in the case of comparing 'CULEX SALINARIUS' and 'CULEX TERRITANS.'Based on the analysis, there is statistically significant difference.\n",
    "\n",
    "When looking at correlation with the number of mosquitoes caught:\n",
    "\n",
    "**Negative columns:** Month, Lon, and Week.\n",
    "\n",
    "**Positive columns:** WNV Present, Year, and Lat.\n",
    "\n",
    "The highest correlation is between 'Mosquito number' and 'WNV Present' with a correlation coefficient of **0.41**.\n",
    "\n",
    "When conducting a linear regression to test the dependent variable, 'Mosquito number', after analyzing and plotting, there did not seem to be a linear relationship present. As a result, a linear model could not be fitted here. \n",
    "\n",
    "When conducting a logistic regression of the dependent variable 'WNV Present', there was relation between this and the independent variables of 'Year', 'Week, 'Month', and 'Lat.' Although, the accuracy is 77.5 %, the limitations of this model assumes linearity between the predicted (dependent) variable and the predictor (independent) variables. It also fails to predict a continuous outcome."
   ]
  }
 ],
 "metadata": {
  "kernelspec": {
   "display_name": "Python 3 (ipykernel)",
   "language": "python",
   "name": "python3"
  },
  "language_info": {
   "codemirror_mode": {
    "name": "ipython",
    "version": 3
   },
   "file_extension": ".py",
   "mimetype": "text/x-python",
   "name": "python",
   "nbconvert_exporter": "python",
   "pygments_lexer": "ipython3",
   "version": "3.10.6"
  }
 },
 "nbformat": 4,
 "nbformat_minor": 5
}
